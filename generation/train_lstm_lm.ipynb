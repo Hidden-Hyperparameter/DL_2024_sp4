{
 "cells": [
  {
   "cell_type": "code",
   "execution_count": 19,
   "metadata": {},
   "outputs": [],
   "source": [
    "from train import train"
   ]
  },
  {
   "cell_type": "code",
   "execution_count": 9,
   "metadata": {},
   "outputs": [],
   "source": [
    "class Config:\n",
    "    def __init__(self):\n",
    "        self.embedding_dim=512\n",
    "        self.device='cuda:0'\n",
    "        self.hidden_size=512\n",
    "        self.num_layers=6\n",
    "        self.batch_size=64\n",
    "        self.lr=1e-4\n",
    "        self.weight_decay=1e-3\n",
    "        self.num_epoch=20\n",
    "        self.save_interval=1\n",
    "        self.save_dir='models'\n",
    "        self.seq2seq=False\n",
    "        self.model_type = 'lstm'\n",
    "args = Config()"
   ]
  },
  {
   "cell_type": "code",
   "execution_count": 10,
   "metadata": {},
   "outputs": [
    {
     "name": "stdout",
     "output_type": "stream",
     "text": [
      "<__main__.Config object at 0x7f6fcb6d4fa0>\n"
     ]
    }
   ],
   "source": [
    "args.num_epoch = 40"
   ]
  },
  {
   "cell_type": "code",
   "execution_count": 11,
   "metadata": {},
   "outputs": [
    {
     "name": "stderr",
     "output_type": "stream",
     "text": [
      "Epoch: 1, Loss: 12817.45342195, lr: 0.000100: 100%|██████████| 1715/1715 [01:03<00:00, 27.02it/s]\n"
     ]
    },
    {
     "name": "stdout",
     "output_type": "stream",
     "text": [
      "valid: loss: 6.453, ppl: 691.152\n"
     ]
    },
    {
     "name": "stderr",
     "output_type": "stream",
     "text": [
      "Epoch: 2, Loss: 12546.20081627, lr: 0.000100: 100%|██████████| 1715/1715 [01:03<00:00, 27.12it/s]\n"
     ]
    },
    {
     "name": "stdout",
     "output_type": "stream",
     "text": [
      "valid: loss: 6.439, ppl: 684.279\n"
     ]
    },
    {
     "name": "stderr",
     "output_type": "stream",
     "text": [
      "Epoch: 3, Loss: 12376.03036511, lr: 0.000100: 100%|██████████| 1715/1715 [01:04<00:00, 26.71it/s]\n"
     ]
    },
    {
     "name": "stdout",
     "output_type": "stream",
     "text": [
      "valid: loss: 6.383, ppl: 654.539\n"
     ]
    },
    {
     "name": "stderr",
     "output_type": "stream",
     "text": [
      "Epoch: 4, Loss: 12190.34198849, lr: 0.000100: 100%|██████████| 1715/1715 [01:02<00:00, 27.30it/s]\n"
     ]
    },
    {
     "name": "stdout",
     "output_type": "stream",
     "text": [
      "valid: loss: 6.429, ppl: 692.098\n"
     ]
    },
    {
     "name": "stderr",
     "output_type": "stream",
     "text": [
      "Epoch: 5, Loss: 12072.44819948, lr: 0.000100: 100%|██████████| 1715/1715 [01:05<00:00, 26.07it/s]\n"
     ]
    },
    {
     "name": "stdout",
     "output_type": "stream",
     "text": [
      "valid: loss: 6.189, ppl: 538.322\n"
     ]
    },
    {
     "name": "stderr",
     "output_type": "stream",
     "text": [
      "Epoch: 6, Loss: 11539.29780259, lr: 0.000100: 100%|██████████| 1715/1715 [01:06<00:00, 25.78it/s]\n"
     ]
    },
    {
     "name": "stdout",
     "output_type": "stream",
     "text": [
      "valid: loss: 5.770, ppl: 358.450\n"
     ]
    },
    {
     "name": "stderr",
     "output_type": "stream",
     "text": [
      "Epoch: 7, Loss: 11101.54180001, lr: 0.000100: 100%|██████████| 1715/1715 [01:05<00:00, 26.11it/s]\n"
     ]
    },
    {
     "name": "stdout",
     "output_type": "stream",
     "text": [
      "valid: loss: 5.662, ppl: 321.977\n"
     ]
    },
    {
     "name": "stderr",
     "output_type": "stream",
     "text": [
      "Epoch: 8, Loss: 10981.07294466, lr: 0.000100: 100%|██████████| 1715/1715 [01:06<00:00, 25.82it/s]\n"
     ]
    },
    {
     "name": "stdout",
     "output_type": "stream",
     "text": [
      "valid: loss: 5.621, ppl: 309.252\n"
     ]
    },
    {
     "name": "stderr",
     "output_type": "stream",
     "text": [
      "Epoch: 9, Loss: 10888.18544808, lr: 0.000100: 100%|██████████| 1715/1715 [01:06<00:00, 25.81it/s]\n"
     ]
    },
    {
     "name": "stdout",
     "output_type": "stream",
     "text": [
      "valid: loss: 5.566, ppl: 293.709\n"
     ]
    },
    {
     "name": "stderr",
     "output_type": "stream",
     "text": [
      "Epoch: 10, Loss: 10760.40932688, lr: 0.000100: 100%|██████████| 1715/1715 [01:05<00:00, 26.04it/s]\n"
     ]
    },
    {
     "name": "stdout",
     "output_type": "stream",
     "text": [
      "valid: loss: 5.494, ppl: 274.609\n"
     ]
    },
    {
     "name": "stderr",
     "output_type": "stream",
     "text": [
      "Epoch: 11, Loss: 10621.28968317, lr: 0.000100: 100%|██████████| 1715/1715 [01:02<00:00, 27.27it/s]\n"
     ]
    },
    {
     "name": "stdout",
     "output_type": "stream",
     "text": [
      "valid: loss: 5.444, ppl: 261.061\n"
     ]
    },
    {
     "name": "stderr",
     "output_type": "stream",
     "text": [
      "Epoch: 12, Loss: 10532.46710892, lr: 0.000100: 100%|██████████| 1715/1715 [01:06<00:00, 25.91it/s]\n"
     ]
    },
    {
     "name": "stdout",
     "output_type": "stream",
     "text": [
      "valid: loss: 5.414, ppl: 254.163\n"
     ]
    },
    {
     "name": "stderr",
     "output_type": "stream",
     "text": [
      "Epoch: 13, Loss: 10462.35955323, lr: 0.000100: 100%|██████████| 1715/1715 [01:05<00:00, 26.19it/s]\n"
     ]
    },
    {
     "name": "stdout",
     "output_type": "stream",
     "text": [
      "valid: loss: 5.383, ppl: 247.403\n"
     ]
    },
    {
     "name": "stderr",
     "output_type": "stream",
     "text": [
      "Epoch: 14, Loss: 10401.60194515, lr: 0.000100: 100%|██████████| 1715/1715 [01:02<00:00, 27.35it/s]\n"
     ]
    },
    {
     "name": "stdout",
     "output_type": "stream",
     "text": [
      "valid: loss: 5.358, ppl: 241.936\n"
     ]
    },
    {
     "name": "stderr",
     "output_type": "stream",
     "text": [
      "Epoch: 15, Loss: 10346.16642703, lr: 0.000100: 100%|██████████| 1715/1715 [01:05<00:00, 26.13it/s]\n"
     ]
    },
    {
     "name": "stdout",
     "output_type": "stream",
     "text": [
      "valid: loss: 5.335, ppl: 236.895\n"
     ]
    },
    {
     "name": "stderr",
     "output_type": "stream",
     "text": [
      "Epoch: 16, Loss: 10292.51000905, lr: 0.000100: 100%|██████████| 1715/1715 [01:03<00:00, 27.10it/s]\n"
     ]
    },
    {
     "name": "stdout",
     "output_type": "stream",
     "text": [
      "valid: loss: 5.312, ppl: 232.042\n"
     ]
    },
    {
     "name": "stderr",
     "output_type": "stream",
     "text": [
      "Epoch: 17, Loss: 10235.07410828, lr: 0.000100: 100%|██████████| 1715/1715 [01:05<00:00, 26.10it/s]\n"
     ]
    },
    {
     "name": "stdout",
     "output_type": "stream",
     "text": [
      "valid: loss: 5.284, ppl: 226.173\n"
     ]
    },
    {
     "name": "stderr",
     "output_type": "stream",
     "text": [
      "Epoch: 18, Loss: 10167.18804579, lr: 0.000100: 100%|██████████| 1715/1715 [01:05<00:00, 26.18it/s]\n"
     ]
    },
    {
     "name": "stdout",
     "output_type": "stream",
     "text": [
      "valid: loss: 5.258, ppl: 221.439\n"
     ]
    },
    {
     "name": "stderr",
     "output_type": "stream",
     "text": [
      "Epoch: 19, Loss: 10101.17752597, lr: 0.000100: 100%|██████████| 1715/1715 [01:08<00:00, 25.21it/s]\n"
     ]
    },
    {
     "name": "stdout",
     "output_type": "stream",
     "text": [
      "valid: loss: 5.230, ppl: 215.922\n"
     ]
    },
    {
     "name": "stderr",
     "output_type": "stream",
     "text": [
      "Epoch: 20, Loss: 10038.73078677, lr: 0.000100: 100%|██████████| 1715/1715 [01:06<00:00, 25.63it/s]\n"
     ]
    },
    {
     "name": "stdout",
     "output_type": "stream",
     "text": [
      "valid: loss: 5.205, ppl: 212.254\n"
     ]
    },
    {
     "name": "stderr",
     "output_type": "stream",
     "text": [
      "Epoch: 21, Loss: 9978.29754322, lr: 0.000100: 100%|██████████| 1715/1715 [01:06<00:00, 25.70it/s]\n"
     ]
    },
    {
     "name": "stdout",
     "output_type": "stream",
     "text": [
      "valid: loss: 5.188, ppl: 208.707\n"
     ]
    },
    {
     "name": "stderr",
     "output_type": "stream",
     "text": [
      "Epoch: 22, Loss: 9920.18705357, lr: 0.000100: 100%|██████████| 1715/1715 [01:04<00:00, 26.67it/s]\n"
     ]
    },
    {
     "name": "stdout",
     "output_type": "stream",
     "text": [
      "valid: loss: 5.165, ppl: 205.199\n"
     ]
    },
    {
     "name": "stderr",
     "output_type": "stream",
     "text": [
      "Epoch: 23, Loss: 9866.43903061, lr: 0.000100: 100%|██████████| 1715/1715 [01:08<00:00, 25.13it/s]\n"
     ]
    },
    {
     "name": "stdout",
     "output_type": "stream",
     "text": [
      "valid: loss: 5.143, ppl: 201.197\n"
     ]
    },
    {
     "name": "stderr",
     "output_type": "stream",
     "text": [
      "Epoch: 24, Loss: 9815.46122563, lr: 0.000100: 100%|██████████| 1715/1715 [01:03<00:00, 26.82it/s]\n"
     ]
    },
    {
     "name": "stdout",
     "output_type": "stream",
     "text": [
      "valid: loss: 5.129, ppl: 199.164\n"
     ]
    },
    {
     "name": "stderr",
     "output_type": "stream",
     "text": [
      "Epoch: 25, Loss: 9766.99427529, lr: 0.000100: 100%|██████████| 1715/1715 [01:06<00:00, 25.81it/s]\n"
     ]
    },
    {
     "name": "stdout",
     "output_type": "stream",
     "text": [
      "valid: loss: 5.116, ppl: 196.739\n"
     ]
    },
    {
     "name": "stderr",
     "output_type": "stream",
     "text": [
      "Epoch: 26, Loss: 9720.71452658, lr: 0.000100: 100%|██████████| 1715/1715 [01:05<00:00, 26.11it/s]\n"
     ]
    },
    {
     "name": "stdout",
     "output_type": "stream",
     "text": [
      "valid: loss: 5.096, ppl: 193.855\n"
     ]
    },
    {
     "name": "stderr",
     "output_type": "stream",
     "text": [
      "Epoch: 27, Loss: 9675.92057671, lr: 0.000100: 100%|██████████| 1715/1715 [01:05<00:00, 26.30it/s]\n"
     ]
    },
    {
     "name": "stdout",
     "output_type": "stream",
     "text": [
      "valid: loss: 5.079, ppl: 191.513\n"
     ]
    },
    {
     "name": "stderr",
     "output_type": "stream",
     "text": [
      "Epoch: 28, Loss: 9632.29058286, lr: 0.000100: 100%|██████████| 1715/1715 [01:05<00:00, 26.29it/s]\n"
     ]
    },
    {
     "name": "stdout",
     "output_type": "stream",
     "text": [
      "valid: loss: 5.068, ppl: 190.355\n"
     ]
    },
    {
     "name": "stderr",
     "output_type": "stream",
     "text": [
      "Epoch: 29, Loss: 9587.64579594, lr: 0.000100: 100%|██████████| 1715/1715 [01:06<00:00, 25.83it/s]\n"
     ]
    },
    {
     "name": "stdout",
     "output_type": "stream",
     "text": [
      "valid: loss: 5.052, ppl: 187.602\n"
     ]
    },
    {
     "name": "stderr",
     "output_type": "stream",
     "text": [
      "Epoch: 30, Loss: 9540.92964793, lr: 0.000100: 100%|██████████| 1715/1715 [01:04<00:00, 26.42it/s]\n"
     ]
    },
    {
     "name": "stdout",
     "output_type": "stream",
     "text": [
      "valid: loss: 5.035, ppl: 184.844\n"
     ]
    },
    {
     "name": "stderr",
     "output_type": "stream",
     "text": [
      "Epoch: 31, Loss: 9494.91912354, lr: 0.000100: 100%|██████████| 1715/1715 [01:04<00:00, 26.49it/s]\n"
     ]
    },
    {
     "name": "stdout",
     "output_type": "stream",
     "text": [
      "valid: loss: 5.023, ppl: 183.880\n"
     ]
    },
    {
     "name": "stderr",
     "output_type": "stream",
     "text": [
      "Epoch: 32, Loss: 9450.88448746, lr: 0.000100: 100%|██████████| 1715/1715 [01:03<00:00, 27.07it/s]\n"
     ]
    },
    {
     "name": "stdout",
     "output_type": "stream",
     "text": [
      "valid: loss: 5.006, ppl: 181.105\n"
     ]
    },
    {
     "name": "stderr",
     "output_type": "stream",
     "text": [
      "Epoch: 33, Loss: 9406.90474216, lr: 0.000100: 100%|██████████| 1715/1715 [01:02<00:00, 27.57it/s]\n"
     ]
    },
    {
     "name": "stdout",
     "output_type": "stream",
     "text": [
      "valid: loss: 4.995, ppl: 179.859\n"
     ]
    },
    {
     "name": "stderr",
     "output_type": "stream",
     "text": [
      "Epoch: 34, Loss: 9362.48674267, lr: 0.000100: 100%|██████████| 1715/1715 [01:06<00:00, 25.92it/s]\n"
     ]
    },
    {
     "name": "stdout",
     "output_type": "stream",
     "text": [
      "valid: loss: 4.980, ppl: 177.515\n"
     ]
    },
    {
     "name": "stderr",
     "output_type": "stream",
     "text": [
      "Epoch: 35, Loss: 9319.72571947, lr: 0.000100: 100%|██████████| 1715/1715 [01:02<00:00, 27.38it/s]\n"
     ]
    },
    {
     "name": "stdout",
     "output_type": "stream",
     "text": [
      "valid: loss: 4.968, ppl: 175.502\n"
     ]
    },
    {
     "name": "stderr",
     "output_type": "stream",
     "text": [
      "Epoch: 36, Loss: 9278.41819595, lr: 0.000100: 100%|██████████| 1715/1715 [01:04<00:00, 26.47it/s]\n"
     ]
    },
    {
     "name": "stdout",
     "output_type": "stream",
     "text": [
      "valid: loss: 4.955, ppl: 173.713\n"
     ]
    },
    {
     "name": "stderr",
     "output_type": "stream",
     "text": [
      "Epoch: 37, Loss: 9238.03101483, lr: 0.000100: 100%|██████████| 1715/1715 [01:05<00:00, 26.03it/s]\n"
     ]
    },
    {
     "name": "stdout",
     "output_type": "stream",
     "text": [
      "valid: loss: 4.942, ppl: 172.335\n"
     ]
    },
    {
     "name": "stderr",
     "output_type": "stream",
     "text": [
      "Epoch: 38, Loss: 9198.45396262, lr: 0.000100: 100%|██████████| 1715/1715 [01:04<00:00, 26.43it/s]\n"
     ]
    },
    {
     "name": "stdout",
     "output_type": "stream",
     "text": [
      "valid: loss: 4.932, ppl: 170.836\n"
     ]
    },
    {
     "name": "stderr",
     "output_type": "stream",
     "text": [
      "Epoch: 39, Loss: 9159.43915902, lr: 0.000100: 100%|██████████| 1715/1715 [01:07<00:00, 25.35it/s]\n"
     ]
    },
    {
     "name": "stdout",
     "output_type": "stream",
     "text": [
      "valid: loss: 4.921, ppl: 169.040\n"
     ]
    },
    {
     "name": "stderr",
     "output_type": "stream",
     "text": [
      "Epoch: 40, Loss: 9120.55258889, lr: 0.000100: 100%|██████████| 1715/1715 [01:05<00:00, 26.00it/s]\n"
     ]
    },
    {
     "name": "stdout",
     "output_type": "stream",
     "text": [
      "valid: loss: 4.912, ppl: 168.037\n"
     ]
    }
   ],
   "source": [
    "train(args)"
   ]
  },
  {
   "cell_type": "code",
   "execution_count": 18,
   "metadata": {},
   "outputs": [
    {
     "data": {
      "text/plain": [
       "{'embedding_dim': 512,\n",
       " 'device': 'cuda:0',\n",
       " 'hidden_size': 512,\n",
       " 'num_layers': 6,\n",
       " 'batch_size': 64,\n",
       " 'lr': 8e-05,\n",
       " 'weight_decay': 0.003,\n",
       " 'num_epoch': 20,\n",
       " 'save_interval': 1,\n",
       " 'save_dir': 'models_lstm_lm_lstm_lm',\n",
       " 'seq2seq': False,\n",
       " 'model_type': 'lstm',\n",
       " 'load': './models_lstm_lm/lstm_40.pt',\n",
       " 'start_epoch': 40}"
      ]
     },
     "execution_count": 18,
     "metadata": {},
     "output_type": "execute_result"
    }
   ],
   "source": [
    "args.num_epoch = 20\n",
    "args.load = './models_lstm_lm/lstm_40.pt'\n",
    "args.lr = 8e-5\n",
    "args.weight_decay = 3e-3\n",
    "args.start_epoch = 40\n",
    "args.__dict__"
   ]
  },
  {
   "cell_type": "code",
   "execution_count": 32,
   "metadata": {},
   "outputs": [],
   "source": [
    "from train2 import train"
   ]
  },
  {
   "cell_type": "code",
   "execution_count": 33,
   "metadata": {},
   "outputs": [
    {
     "name": "stdout",
     "output_type": "stream",
     "text": [
      "!!!!!!!!!!!!!!!!!!!!!!1\n",
      "model loaded from ./models_lstm_lm/lstm_40.pt\n"
     ]
    },
    {
     "name": "stderr",
     "output_type": "stream",
     "text": [
      "Epoch: 41, Loss: 9094.41122620, lr: 0.000080: 100%|██████████| 1715/1715 [01:02<00:00, 27.25it/s]\n"
     ]
    },
    {
     "name": "stdout",
     "output_type": "stream",
     "text": [
      "valid: loss: 4.902, ppl: 166.943\n"
     ]
    },
    {
     "name": "stderr",
     "output_type": "stream",
     "text": [
      "Epoch: 42, Loss: 9055.85429887, lr: 0.000080: 100%|██████████| 1715/1715 [01:04<00:00, 26.41it/s]\n"
     ]
    },
    {
     "name": "stdout",
     "output_type": "stream",
     "text": [
      "valid: loss: 4.896, ppl: 166.512\n"
     ]
    },
    {
     "name": "stderr",
     "output_type": "stream",
     "text": [
      "Epoch: 43, Loss: 9023.95724308, lr: 0.000080: 100%|██████████| 1715/1715 [01:03<00:00, 27.12it/s]\n"
     ]
    },
    {
     "name": "stdout",
     "output_type": "stream",
     "text": [
      "valid: loss: 4.887, ppl: 164.839\n"
     ]
    },
    {
     "name": "stderr",
     "output_type": "stream",
     "text": [
      "Epoch: 44, Loss: 8993.64637761, lr: 0.000080: 100%|██████████| 1715/1715 [01:04<00:00, 26.51it/s]\n"
     ]
    },
    {
     "name": "stdout",
     "output_type": "stream",
     "text": [
      "valid: loss: 4.879, ppl: 163.693\n"
     ]
    },
    {
     "name": "stderr",
     "output_type": "stream",
     "text": [
      "Epoch: 45, Loss: 8964.31268222, lr: 0.000080: 100%|██████████| 1715/1715 [01:06<00:00, 25.71it/s]\n"
     ]
    },
    {
     "name": "stdout",
     "output_type": "stream",
     "text": [
      "valid: loss: 4.873, ppl: 162.606\n"
     ]
    },
    {
     "name": "stderr",
     "output_type": "stream",
     "text": [
      "Epoch: 46, Loss: 8935.92168054, lr: 0.000080: 100%|██████████| 1715/1715 [01:04<00:00, 26.47it/s]\n"
     ]
    },
    {
     "name": "stdout",
     "output_type": "stream",
     "text": [
      "valid: loss: 4.869, ppl: 162.163\n"
     ]
    },
    {
     "name": "stderr",
     "output_type": "stream",
     "text": [
      "Epoch: 47, Loss: 8908.33269150, lr: 0.000080: 100%|██████████| 1715/1715 [01:03<00:00, 27.06it/s]\n"
     ]
    },
    {
     "name": "stdout",
     "output_type": "stream",
     "text": [
      "valid: loss: 4.863, ppl: 161.475\n"
     ]
    },
    {
     "name": "stderr",
     "output_type": "stream",
     "text": [
      "Epoch: 48, Loss: 8881.38100999, lr: 0.000080: 100%|██████████| 1715/1715 [01:02<00:00, 27.40it/s]\n"
     ]
    },
    {
     "name": "stdout",
     "output_type": "stream",
     "text": [
      "valid: loss: 4.860, ppl: 161.697\n"
     ]
    },
    {
     "name": "stderr",
     "output_type": "stream",
     "text": [
      "Epoch: 49, Loss: 8854.48603145, lr: 0.000080: 100%|██████████| 1715/1715 [01:03<00:00, 27.19it/s]\n"
     ]
    },
    {
     "name": "stdout",
     "output_type": "stream",
     "text": [
      "valid: loss: 4.855, ppl: 161.297\n"
     ]
    },
    {
     "name": "stderr",
     "output_type": "stream",
     "text": [
      "Epoch: 50, Loss: 8828.55606209, lr: 0.000080: 100%|██████████| 1715/1715 [01:02<00:00, 27.44it/s]\n"
     ]
    },
    {
     "name": "stdout",
     "output_type": "stream",
     "text": [
      "valid: loss: 4.849, ppl: 160.512\n"
     ]
    },
    {
     "name": "stderr",
     "output_type": "stream",
     "text": [
      "Epoch: 51, Loss: 8803.05424990, lr: 0.000080: 100%|██████████| 1715/1715 [01:02<00:00, 27.43it/s]\n"
     ]
    },
    {
     "name": "stdout",
     "output_type": "stream",
     "text": [
      "valid: loss: 4.848, ppl: 160.553\n"
     ]
    },
    {
     "name": "stderr",
     "output_type": "stream",
     "text": [
      "Epoch: 52, Loss: 8777.80999624, lr: 0.000080: 100%|██████████| 1715/1715 [01:03<00:00, 26.82it/s]\n"
     ]
    },
    {
     "name": "stdout",
     "output_type": "stream",
     "text": [
      "valid: loss: 4.844, ppl: 160.474\n"
     ]
    },
    {
     "name": "stderr",
     "output_type": "stream",
     "text": [
      "Epoch: 53, Loss: 8752.83316042, lr: 0.000080: 100%|██████████| 1715/1715 [01:04<00:00, 26.45it/s]\n"
     ]
    },
    {
     "name": "stdout",
     "output_type": "stream",
     "text": [
      "valid: loss: 4.838, ppl: 159.534\n"
     ]
    },
    {
     "name": "stderr",
     "output_type": "stream",
     "text": [
      "Epoch: 54, Loss: 8728.05740622, lr: 0.000080: 100%|██████████| 1715/1715 [01:07<00:00, 25.24it/s]\n"
     ]
    },
    {
     "name": "stdout",
     "output_type": "stream",
     "text": [
      "valid: loss: 4.836, ppl: 159.292\n"
     ]
    },
    {
     "name": "stderr",
     "output_type": "stream",
     "text": [
      "Epoch: 55, Loss: 8703.89723915, lr: 0.000080: 100%|██████████| 1715/1715 [01:02<00:00, 27.33it/s]\n"
     ]
    },
    {
     "name": "stdout",
     "output_type": "stream",
     "text": [
      "valid: loss: 4.835, ppl: 159.381\n"
     ]
    },
    {
     "name": "stderr",
     "output_type": "stream",
     "text": [
      "Epoch: 56, Loss: 8679.61283539, lr: 0.000080: 100%|██████████| 1715/1715 [01:03<00:00, 26.80it/s]\n"
     ]
    },
    {
     "name": "stdout",
     "output_type": "stream",
     "text": [
      "valid: loss: 4.832, ppl: 159.208\n"
     ]
    },
    {
     "name": "stderr",
     "output_type": "stream",
     "text": [
      "Epoch: 57, Loss: 8655.91200033, lr: 0.000080: 100%|██████████| 1715/1715 [01:02<00:00, 27.30it/s]\n"
     ]
    },
    {
     "name": "stdout",
     "output_type": "stream",
     "text": [
      "valid: loss: 4.828, ppl: 158.654\n"
     ]
    },
    {
     "name": "stderr",
     "output_type": "stream",
     "text": [
      "Epoch: 58, Loss: 8631.89707658, lr: 0.000080: 100%|██████████| 1715/1715 [01:02<00:00, 27.36it/s]\n"
     ]
    },
    {
     "name": "stdout",
     "output_type": "stream",
     "text": [
      "valid: loss: 4.827, ppl: 159.199\n"
     ]
    },
    {
     "name": "stderr",
     "output_type": "stream",
     "text": [
      "Epoch: 59, Loss: 8608.19392538, lr: 0.000080: 100%|██████████| 1715/1715 [01:04<00:00, 26.47it/s]\n"
     ]
    },
    {
     "name": "stdout",
     "output_type": "stream",
     "text": [
      "valid: loss: 4.828, ppl: 159.336\n"
     ]
    },
    {
     "name": "stderr",
     "output_type": "stream",
     "text": [
      "Epoch: 60, Loss: 8584.81968813, lr: 0.000080: 100%|██████████| 1715/1715 [01:07<00:00, 25.56it/s]\n"
     ]
    },
    {
     "name": "stdout",
     "output_type": "stream",
     "text": [
      "valid: loss: 4.825, ppl: 159.293\n"
     ]
    }
   ],
   "source": [
    "train(args)"
   ]
  },
  {
   "cell_type": "code",
   "execution_count": 39,
   "metadata": {},
   "outputs": [
    {
     "data": {
      "text/plain": [
       "{'embedding_dim': 512,\n",
       " 'device': 'cuda:0',\n",
       " 'hidden_size': 512,\n",
       " 'num_layers': 6,\n",
       " 'batch_size': 64,\n",
       " 'lr': 5e-05,\n",
       " 'weight_decay': 0.05,\n",
       " 'num_epoch': 20,\n",
       " 'save_interval': 1,\n",
       " 'save_dir': 'models_lstm_lm',\n",
       " 'seq2seq': False,\n",
       " 'model_type': 'lstm',\n",
       " 'load': './models_lstm_lm/lstm_60.pt',\n",
       " 'start_epoch': 60}"
      ]
     },
     "execution_count": 39,
     "metadata": {},
     "output_type": "execute_result"
    }
   ],
   "source": [
    "N = 60\n",
    "args.num_epoch = 20\n",
    "args.load = f'./models_lstm_lm/lstm_{N}.pt'\n",
    "args.lr = 5e-5\n",
    "args.weight_decay = 5e-2\n",
    "args.start_epoch = N\n",
    "args.save_dir = 'models_lstm_lm'\n",
    "args.__dict__"
   ]
  },
  {
   "cell_type": "code",
   "execution_count": 40,
   "metadata": {},
   "outputs": [
    {
     "name": "stdout",
     "output_type": "stream",
     "text": [
      "!!!!!!!!!!!!!!!!!!!!!!1\n",
      "model loaded from ./models_lstm_lm/lstm_60.pt\n"
     ]
    },
    {
     "name": "stderr",
     "output_type": "stream",
     "text": [
      "Epoch: 61, Loss: 8535.13660771, lr: 0.000050: 100%|██████████| 1715/1715 [01:06<00:00, 25.60it/s]\n"
     ]
    },
    {
     "name": "stdout",
     "output_type": "stream",
     "text": [
      "valid: loss: 4.833, ppl: 160.481\n"
     ]
    },
    {
     "name": "stderr",
     "output_type": "stream",
     "text": [
      "Epoch: 62, Loss: 8541.32748838, lr: 0.000050: 100%|██████████| 1715/1715 [01:11<00:00, 24.09it/s]\n"
     ]
    },
    {
     "name": "stdout",
     "output_type": "stream",
     "text": [
      "valid: loss: 4.832, ppl: 160.124\n"
     ]
    },
    {
     "name": "stderr",
     "output_type": "stream",
     "text": [
      "Epoch: 63, Loss: 8549.20501164, lr: 0.000050: 100%|██████████| 1715/1715 [01:04<00:00, 26.58it/s]\n"
     ]
    },
    {
     "name": "stdout",
     "output_type": "stream",
     "text": [
      "valid: loss: 4.831, ppl: 159.631\n"
     ]
    },
    {
     "name": "stderr",
     "output_type": "stream",
     "text": [
      "Epoch: 64, Loss: 8555.61787138, lr: 0.000050: 100%|██████████| 1715/1715 [01:03<00:00, 26.94it/s]\n"
     ]
    },
    {
     "name": "stdout",
     "output_type": "stream",
     "text": [
      "valid: loss: 4.831, ppl: 159.238\n"
     ]
    },
    {
     "name": "stderr",
     "output_type": "stream",
     "text": [
      "Epoch: 65, Loss: 8561.09534866, lr: 0.000050: 100%|██████████| 1715/1715 [01:02<00:00, 27.24it/s]\n"
     ]
    },
    {
     "name": "stdout",
     "output_type": "stream",
     "text": [
      "valid: loss: 4.828, ppl: 158.922\n"
     ]
    },
    {
     "name": "stderr",
     "output_type": "stream",
     "text": [
      "Epoch: 66, Loss: 8565.70369983, lr: 0.000050: 100%|██████████| 1715/1715 [01:03<00:00, 26.85it/s]\n"
     ]
    },
    {
     "name": "stdout",
     "output_type": "stream",
     "text": [
      "valid: loss: 4.827, ppl: 158.170\n"
     ]
    },
    {
     "name": "stderr",
     "output_type": "stream",
     "text": [
      "Epoch: 67, Loss: 8568.87094057, lr: 0.000050: 100%|██████████| 1715/1715 [01:03<00:00, 26.89it/s]\n"
     ]
    },
    {
     "name": "stdout",
     "output_type": "stream",
     "text": [
      "valid: loss: 4.826, ppl: 158.377\n"
     ]
    },
    {
     "name": "stderr",
     "output_type": "stream",
     "text": [
      "Epoch: 68, Loss: 8571.69596478, lr: 0.000050: 100%|██████████| 1715/1715 [01:07<00:00, 25.53it/s]\n"
     ]
    },
    {
     "name": "stdout",
     "output_type": "stream",
     "text": [
      "valid: loss: 4.822, ppl: 157.718\n"
     ]
    },
    {
     "name": "stderr",
     "output_type": "stream",
     "text": [
      "Epoch: 69, Loss: 8573.99468585, lr: 0.000050: 100%|██████████| 1715/1715 [01:05<00:00, 26.19it/s]\n"
     ]
    },
    {
     "name": "stdout",
     "output_type": "stream",
     "text": [
      "valid: loss: 4.822, ppl: 157.315\n"
     ]
    },
    {
     "name": "stderr",
     "output_type": "stream",
     "text": [
      "Epoch: 70, Loss: 8575.22209708, lr: 0.000050: 100%|██████████| 1715/1715 [01:06<00:00, 25.95it/s]\n"
     ]
    },
    {
     "name": "stdout",
     "output_type": "stream",
     "text": [
      "valid: loss: 4.820, ppl: 156.852\n"
     ]
    },
    {
     "name": "stderr",
     "output_type": "stream",
     "text": [
      "Epoch: 71, Loss: 8576.30321952, lr: 0.000050: 100%|██████████| 1715/1715 [01:06<00:00, 25.72it/s]\n"
     ]
    },
    {
     "name": "stdout",
     "output_type": "stream",
     "text": [
      "valid: loss: 4.820, ppl: 157.023\n"
     ]
    },
    {
     "name": "stderr",
     "output_type": "stream",
     "text": [
      "Epoch: 72, Loss: 8576.59007237, lr: 0.000050: 100%|██████████| 1715/1715 [01:06<00:00, 25.95it/s]\n"
     ]
    },
    {
     "name": "stdout",
     "output_type": "stream",
     "text": [
      "valid: loss: 4.822, ppl: 157.583\n"
     ]
    },
    {
     "name": "stderr",
     "output_type": "stream",
     "text": [
      "Epoch: 73, Loss: 8576.50357627, lr: 0.000050: 100%|██████████| 1715/1715 [01:06<00:00, 25.70it/s]\n"
     ]
    },
    {
     "name": "stdout",
     "output_type": "stream",
     "text": [
      "valid: loss: 4.823, ppl: 157.501\n"
     ]
    },
    {
     "name": "stderr",
     "output_type": "stream",
     "text": [
      "Epoch: 74, Loss: 8576.31876765, lr: 0.000050: 100%|██████████| 1715/1715 [01:05<00:00, 26.37it/s]\n"
     ]
    },
    {
     "name": "stdout",
     "output_type": "stream",
     "text": [
      "valid: loss: 4.819, ppl: 156.796\n"
     ]
    },
    {
     "name": "stderr",
     "output_type": "stream",
     "text": [
      "Epoch: 75, Loss: 8575.25325739, lr: 0.000050: 100%|██████████| 1715/1715 [01:04<00:00, 26.56it/s]\n"
     ]
    },
    {
     "name": "stdout",
     "output_type": "stream",
     "text": [
      "valid: loss: 4.818, ppl: 156.528\n"
     ]
    },
    {
     "name": "stderr",
     "output_type": "stream",
     "text": [
      "Epoch: 76, Loss: 8573.95196679, lr: 0.000050: 100%|██████████| 1715/1715 [01:04<00:00, 26.48it/s]\n"
     ]
    },
    {
     "name": "stdout",
     "output_type": "stream",
     "text": [
      "valid: loss: 4.815, ppl: 156.051\n"
     ]
    },
    {
     "name": "stderr",
     "output_type": "stream",
     "text": [
      "Epoch: 77, Loss: 8572.39699458, lr: 0.000050: 100%|██████████| 1715/1715 [01:04<00:00, 26.58it/s]\n"
     ]
    },
    {
     "name": "stdout",
     "output_type": "stream",
     "text": [
      "valid: loss: 4.814, ppl: 155.928\n"
     ]
    },
    {
     "name": "stderr",
     "output_type": "stream",
     "text": [
      "Epoch: 78, Loss: 8570.40921400, lr: 0.000050: 100%|██████████| 1715/1715 [01:02<00:00, 27.62it/s]\n"
     ]
    },
    {
     "name": "stdout",
     "output_type": "stream",
     "text": [
      "valid: loss: 4.814, ppl: 156.056\n"
     ]
    },
    {
     "name": "stderr",
     "output_type": "stream",
     "text": [
      "Epoch: 79, Loss: 8567.97368748, lr: 0.000050: 100%|██████████| 1715/1715 [01:09<00:00, 24.80it/s]\n"
     ]
    },
    {
     "name": "stdout",
     "output_type": "stream",
     "text": [
      "valid: loss: 4.816, ppl: 156.234\n"
     ]
    },
    {
     "name": "stderr",
     "output_type": "stream",
     "text": [
      "Epoch: 80, Loss: 8565.60421488, lr: 0.000050: 100%|██████████| 1715/1715 [01:05<00:00, 26.28it/s]\n"
     ]
    },
    {
     "name": "stdout",
     "output_type": "stream",
     "text": [
      "valid: loss: 4.812, ppl: 155.486\n"
     ]
    }
   ],
   "source": [
    "train(args)"
   ]
  },
  {
   "cell_type": "code",
   "execution_count": 45,
   "metadata": {},
   "outputs": [
    {
     "data": {
      "text/plain": [
       "{'embedding_dim': 512,\n",
       " 'device': 'cuda:0',\n",
       " 'hidden_size': 512,\n",
       " 'num_layers': 6,\n",
       " 'batch_size': 64,\n",
       " 'lr': 3e-05,\n",
       " 'weight_decay': 0.1,\n",
       " 'num_epoch': 10,\n",
       " 'save_interval': 1,\n",
       " 'save_dir': 'models_lstm_lm',\n",
       " 'seq2seq': False,\n",
       " 'model_type': 'lstm',\n",
       " 'load': './models_lstm_lm_lstm_lm/lstm_80.pt',\n",
       " 'start_epoch': 80}"
      ]
     },
     "execution_count": 45,
     "metadata": {},
     "output_type": "execute_result"
    }
   ],
   "source": [
    "N = 80\n",
    "args.num_epoch = 10\n",
    "args.load = f'./models_lstm_lm_lstm_lm/lstm_{N}.pt'\n",
    "args.lr = 3e-5\n",
    "args.weight_decay = 0.1\n",
    "args.start_epoch = N\n",
    "args.save_dir = 'models_lstm_lm'\n",
    "args.__dict__"
   ]
  },
  {
   "cell_type": "code",
   "execution_count": 46,
   "metadata": {},
   "outputs": [
    {
     "name": "stdout",
     "output_type": "stream",
     "text": [
      "!!!!!!!!!!!!!!!!!!!!!!1\n",
      "model loaded from ./models_lstm_lm_lstm_lm/lstm_80.pt\n"
     ]
    },
    {
     "name": "stderr",
     "output_type": "stream",
     "text": [
      "Epoch: 81, Loss: 8563.74535891, lr: 0.000030: 100%|██████████| 1715/1715 [01:02<00:00, 27.64it/s]\n"
     ]
    },
    {
     "name": "stdout",
     "output_type": "stream",
     "text": [
      "valid: loss: 4.814, ppl: 155.551\n"
     ]
    },
    {
     "name": "stderr",
     "output_type": "stream",
     "text": [
      "Epoch: 82, Loss: 8572.64273443, lr: 0.000030: 100%|██████████| 1715/1715 [01:02<00:00, 27.35it/s]\n"
     ]
    },
    {
     "name": "stdout",
     "output_type": "stream",
     "text": [
      "valid: loss: 4.814, ppl: 155.633\n"
     ]
    },
    {
     "name": "stderr",
     "output_type": "stream",
     "text": [
      "Epoch: 83, Loss: 8582.28191608, lr: 0.000030: 100%|██████████| 1715/1715 [01:02<00:00, 27.54it/s]\n"
     ]
    },
    {
     "name": "stdout",
     "output_type": "stream",
     "text": [
      "valid: loss: 4.814, ppl: 155.456\n"
     ]
    },
    {
     "name": "stderr",
     "output_type": "stream",
     "text": [
      "Epoch: 84, Loss: 8591.28023215, lr: 0.000030: 100%|██████████| 1715/1715 [01:04<00:00, 26.67it/s]\n"
     ]
    },
    {
     "name": "stdout",
     "output_type": "stream",
     "text": [
      "valid: loss: 4.816, ppl: 155.603\n"
     ]
    },
    {
     "name": "stderr",
     "output_type": "stream",
     "text": [
      "Epoch: 85, Loss: 8599.92152822, lr: 0.000030: 100%|██████████| 1715/1715 [01:02<00:00, 27.34it/s]\n"
     ]
    },
    {
     "name": "stdout",
     "output_type": "stream",
     "text": [
      "valid: loss: 4.813, ppl: 155.171\n"
     ]
    },
    {
     "name": "stderr",
     "output_type": "stream",
     "text": [
      "Epoch: 86, Loss: 8607.69819948, lr: 0.000030: 100%|██████████| 1715/1715 [01:05<00:00, 26.09it/s]\n"
     ]
    },
    {
     "name": "stdout",
     "output_type": "stream",
     "text": [
      "valid: loss: 4.815, ppl: 155.187\n"
     ]
    },
    {
     "name": "stderr",
     "output_type": "stream",
     "text": [
      "Epoch: 87, Loss: 8615.02986374, lr: 0.000030: 100%|██████████| 1715/1715 [01:02<00:00, 27.50it/s]\n"
     ]
    },
    {
     "name": "stdout",
     "output_type": "stream",
     "text": [
      "valid: loss: 4.813, ppl: 155.036\n"
     ]
    },
    {
     "name": "stderr",
     "output_type": "stream",
     "text": [
      "Epoch: 88, Loss: 8621.55713802, lr: 0.000030: 100%|██████████| 1715/1715 [01:04<00:00, 26.58it/s]\n"
     ]
    },
    {
     "name": "stdout",
     "output_type": "stream",
     "text": [
      "valid: loss: 4.814, ppl: 155.104\n"
     ]
    },
    {
     "name": "stderr",
     "output_type": "stream",
     "text": [
      "Epoch: 89, Loss: 8627.77930428, lr: 0.000030: 100%|██████████| 1715/1715 [01:02<00:00, 27.29it/s]\n"
     ]
    },
    {
     "name": "stdout",
     "output_type": "stream",
     "text": [
      "valid: loss: 4.811, ppl: 154.446\n"
     ]
    },
    {
     "name": "stderr",
     "output_type": "stream",
     "text": [
      "Epoch: 90, Loss: 8633.85244539, lr: 0.000030: 100%|██████████| 1715/1715 [01:02<00:00, 27.31it/s]\n"
     ]
    },
    {
     "name": "stdout",
     "output_type": "stream",
     "text": [
      "valid: loss: 4.811, ppl: 154.562\n"
     ]
    }
   ],
   "source": [
    "train(args)"
   ]
  },
  {
   "cell_type": "code",
   "execution_count": 56,
   "metadata": {},
   "outputs": [
    {
     "data": {
      "text/plain": [
       "{'embedding_dim': 512,\n",
       " 'device': 'cuda:0',\n",
       " 'hidden_size': 512,\n",
       " 'num_layers': 6,\n",
       " 'batch_size': 64,\n",
       " 'lr': 1.5e-05,\n",
       " 'weight_decay': 0.5,\n",
       " 'num_epoch': 10,\n",
       " 'save_interval': 1,\n",
       " 'save_dir': 'models_lstm_lm',\n",
       " 'seq2seq': False,\n",
       " 'model_type': 'lstm',\n",
       " 'load': './models_lstm_lm_lstm_lm/lstm_90.pt',\n",
       " 'start_epoch': 90}"
      ]
     },
     "execution_count": 56,
     "metadata": {},
     "output_type": "execute_result"
    }
   ],
   "source": [
    "N = 90\n",
    "args.num_epoch = 10\n",
    "args.load = f'./models_lstm_lm_lstm_lm/lstm_{N}.pt'\n",
    "args.lr = 1.5e-5\n",
    "args.weight_decay = 0.5\n",
    "args.start_epoch = N\n",
    "args.save_dir = 'models_lstm_lm'\n",
    "args.__dict__"
   ]
  },
  {
   "cell_type": "code",
   "execution_count": 57,
   "metadata": {},
   "outputs": [
    {
     "name": "stdout",
     "output_type": "stream",
     "text": [
      "!!!!!!!!!!!!!!!!!!!!!!1\n",
      "model loaded from ./models_lstm_lm_lstm_lm/lstm_90.pt\n"
     ]
    },
    {
     "name": "stderr",
     "output_type": "stream",
     "text": [
      "Epoch: 91, Loss: 8673.53590020, lr: 0.000015: 100%|██████████| 1715/1715 [00:44<00:00, 38.66it/s]\n"
     ]
    },
    {
     "name": "stdout",
     "output_type": "stream",
     "text": [
      "valid: loss: 4.826, ppl: 155.642\n"
     ]
    },
    {
     "name": "stderr",
     "output_type": "stream",
     "text": [
      "Epoch: 92, Loss: 8743.79688383, lr: 0.000015: 100%|██████████| 1715/1715 [02:03<00:00, 13.91it/s]\n"
     ]
    }
   ],
   "source": [
    "train(args)"
   ]
  },
  {
   "cell_type": "code",
   "execution_count": null,
   "metadata": {},
   "outputs": [],
   "source": []
  }
 ],
 "metadata": {
  "kernelspec": {
   "display_name": "base",
   "language": "python",
   "name": "python3"
  },
  "language_info": {
   "codemirror_mode": {
    "name": "ipython",
    "version": 3
   },
   "file_extension": ".py",
   "mimetype": "text/x-python",
   "name": "python",
   "nbconvert_exporter": "python",
   "pygments_lexer": "ipython3",
   "version": "3.10.13"
  }
 },
 "nbformat": 4,
 "nbformat_minor": 2
}
