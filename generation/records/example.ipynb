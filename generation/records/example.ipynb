{
 "cells": [
  {
   "cell_type": "code",
   "execution_count": 1,
   "metadata": {},
   "outputs": [
    {
     "name": "stdout",
     "output_type": "stream",
     "text": [
      "/root/DL_2024_sp4/generation\n"
     ]
    }
   ],
   "source": [
    "from train import train"
   ]
  },
  {
   "cell_type": "code",
   "execution_count": 2,
   "metadata": {},
   "outputs": [],
   "source": [
    "class Config:\n",
    "    def __init__(self):\n",
    "        self.embedding_dim=512\n",
    "        self.device='cuda:0'\n",
    "        self.hidden_size=512\n",
    "        self.num_layers=6\n",
    "        self.batch_size=64\n",
    "        self.lr=3e-4\n",
    "        self.weight_decay=1e-3\n",
    "        self.num_epoch=10\n",
    "        self.save_interval=1\n",
    "        self.save_dir='models'\n",
    "        self.seq2seq=False\n",
    "        self.model_type = 'lstm'\n",
    "        self.load = None\n",
    "        self.start_epoch = 0\n",
    "args = Config()"
   ]
  },
  {
   "cell_type": "code",
   "execution_count": 4,
   "metadata": {},
   "outputs": [],
   "source": [
    "args.num_epoch = 10"
   ]
  },
  {
   "cell_type": "code",
   "execution_count": 25,
   "metadata": {},
   "outputs": [
    {
     "name": "stderr",
     "output_type": "stream",
     "text": [
      "Epoch: 1, Loss: 12754.70736636, lr: 0.000300: 100%|██████████| 1715/1715 [03:58<00:00,  7.18it/s]\n"
     ]
    },
    {
     "name": "stdout",
     "output_type": "stream",
     "text": [
      "valid: loss: 6.436, ppl: 682.763\n"
     ]
    },
    {
     "name": "stderr",
     "output_type": "stream",
     "text": [
      "Epoch: 2, Loss: 12217.00693502, lr: 0.000300: 100%|██████████| 1715/1715 [03:43<00:00,  7.66it/s]\n"
     ]
    },
    {
     "name": "stdout",
     "output_type": "stream",
     "text": [
      "valid: loss: 6.195, ppl: 540.298\n"
     ]
    },
    {
     "name": "stderr",
     "output_type": "stream",
     "text": [
      "Epoch: 3, Loss: 11811.58617153, lr: 0.000300: 100%|██████████| 1715/1715 [00:44<00:00, 38.39it/s]\n"
     ]
    },
    {
     "name": "stdout",
     "output_type": "stream",
     "text": [
      "valid: loss: 6.138, ppl: 522.663\n"
     ]
    },
    {
     "name": "stderr",
     "output_type": "stream",
     "text": [
      "Epoch: 4, Loss: 11600.73410623, lr: 0.000300: 100%|██████████| 1715/1715 [03:11<00:00,  8.95it/s]\n"
     ]
    },
    {
     "name": "stdout",
     "output_type": "stream",
     "text": [
      "valid: loss: 5.744, ppl: 349.275\n"
     ]
    },
    {
     "name": "stderr",
     "output_type": "stream",
     "text": [
      "Epoch: 5, Loss: 11014.93142026, lr: 0.000300: 100%|██████████| 1715/1715 [03:10<00:00,  8.98it/s]\n"
     ]
    },
    {
     "name": "stdout",
     "output_type": "stream",
     "text": [
      "valid: loss: 5.619, ppl: 308.362\n"
     ]
    },
    {
     "name": "stderr",
     "output_type": "stream",
     "text": [
      "Epoch: 6, Loss: 10862.06227906, lr: 0.000300: 100%|██████████| 1715/1715 [03:12<00:00,  8.92it/s]\n"
     ]
    },
    {
     "name": "stdout",
     "output_type": "stream",
     "text": [
      "valid: loss: 5.505, ppl: 276.611\n"
     ]
    },
    {
     "name": "stderr",
     "output_type": "stream",
     "text": [
      "Epoch: 7, Loss: 10640.97521211, lr: 0.000300: 100%|██████████| 1715/1715 [03:10<00:00,  8.99it/s]\n"
     ]
    },
    {
     "name": "stdout",
     "output_type": "stream",
     "text": [
      "valid: loss: 5.433, ppl: 260.012\n"
     ]
    },
    {
     "name": "stderr",
     "output_type": "stream",
     "text": [
      "Epoch: 8, Loss: 10519.71904724, lr: 0.000300: 100%|██████████| 1715/1715 [03:14<00:00,  8.82it/s]\n"
     ]
    },
    {
     "name": "stdout",
     "output_type": "stream",
     "text": [
      "valid: loss: 5.385, ppl: 247.438\n"
     ]
    },
    {
     "name": "stderr",
     "output_type": "stream",
     "text": [
      "Epoch: 9, Loss: 10425.03964246, lr: 0.000300: 100%|██████████| 1715/1715 [03:12<00:00,  8.92it/s]\n"
     ]
    },
    {
     "name": "stdout",
     "output_type": "stream",
     "text": [
      "valid: loss: 5.341, ppl: 238.687\n"
     ]
    },
    {
     "name": "stderr",
     "output_type": "stream",
     "text": [
      "Epoch: 10, Loss: 10312.82155271, lr: 0.000300: 100%|██████████| 1715/1715 [03:16<00:00,  8.74it/s]\n"
     ]
    },
    {
     "name": "stdout",
     "output_type": "stream",
     "text": [
      "valid: loss: 5.284, ppl: 226.589\n"
     ]
    }
   ],
   "source": [
    "train(args)"
   ]
  },
  {
   "cell_type": "code",
   "execution_count": 26,
   "metadata": {},
   "outputs": [
    {
     "ename": "AssertionError",
     "evalue": "",
     "output_type": "error",
     "traceback": [
      "\u001b[0;31m---------------------------------------------------------------------------\u001b[0m",
      "\u001b[0;31mAssertionError\u001b[0m                            Traceback (most recent call last)",
      "Cell \u001b[0;32mIn[26], line 1\u001b[0m\n\u001b[0;32m----> 1\u001b[0m \u001b[38;5;28;01massert\u001b[39;00m \u001b[38;5;28;01mFalse\u001b[39;00m\n",
      "\u001b[0;31mAssertionError\u001b[0m: "
     ]
    }
   ],
   "source": [
    "assert False"
   ]
  },
  {
   "cell_type": "code",
   "execution_count": 29,
   "metadata": {},
   "outputs": [
    {
     "data": {
      "text/plain": [
       "{'embedding_dim': 512,\n",
       " 'device': 'cuda:0',\n",
       " 'hidden_size': 512,\n",
       " 'num_layers': 6,\n",
       " 'batch_size': 64,\n",
       " 'lr': 0.0003,\n",
       " 'weight_decay': 0.003,\n",
       " 'num_epoch': 20,\n",
       " 'save_interval': 1,\n",
       " 'save_dir': 'models_lstm_lm',\n",
       " 'seq2seq': False,\n",
       " 'model_type': 'lstm',\n",
       " 'load': './models_lstm_lm/lstm_10.pt',\n",
       " 'start_epoch': 10}"
      ]
     },
     "execution_count": 29,
     "metadata": {},
     "output_type": "execute_result"
    }
   ],
   "source": [
    "N = 10\n",
    "args.num_epoch = 20\n",
    "args.load = f'./models_lstm_lm/lstm_{N}.pt'\n",
    "args.lr = 3e-4\n",
    "args.weight_decay = 3e-3\n",
    "args.start_epoch = N\n",
    "args.save_dir = 'models_lstm_lm'\n",
    "args.__dict__"
   ]
  },
  {
   "cell_type": "code",
   "execution_count": 30,
   "metadata": {},
   "outputs": [
    {
     "name": "stdout",
     "output_type": "stream",
     "text": [
      "model loaded from ./models_lstm_lm/lstm_10.pt\n"
     ]
    },
    {
     "name": "stderr",
     "output_type": "stream",
     "text": [
      "Epoch: 11, Loss: 10212.64508245, lr: 0.000300: 100%|██████████| 1715/1715 [00:52<00:00, 32.65it/s]\n"
     ]
    },
    {
     "name": "stdout",
     "output_type": "stream",
     "text": [
      "valid: loss: 5.225, ppl: 216.411\n"
     ]
    },
    {
     "name": "stderr",
     "output_type": "stream",
     "text": [
      "Epoch: 12, Loss: 10087.08207823, lr: 0.000300: 100%|██████████| 1715/1715 [03:02<00:00,  9.39it/s]\n"
     ]
    },
    {
     "name": "stdout",
     "output_type": "stream",
     "text": [
      "valid: loss: 5.176, ppl: 207.457\n"
     ]
    },
    {
     "name": "stderr",
     "output_type": "stream",
     "text": [
      "Epoch: 13, Loss: 9985.88513888, lr: 0.000300: 100%|██████████| 1715/1715 [02:58<00:00,  9.62it/s]\n"
     ]
    },
    {
     "name": "stdout",
     "output_type": "stream",
     "text": [
      "valid: loss: 5.134, ppl: 200.395\n"
     ]
    },
    {
     "name": "stderr",
     "output_type": "stream",
     "text": [
      "Epoch: 14, Loss: 9899.04889930, lr: 0.000300: 100%|██████████| 1715/1715 [03:03<00:00,  9.33it/s]\n"
     ]
    },
    {
     "name": "stdout",
     "output_type": "stream",
     "text": [
      "valid: loss: 5.099, ppl: 194.521\n"
     ]
    },
    {
     "name": "stderr",
     "output_type": "stream",
     "text": [
      "Epoch: 15, Loss: 9820.72877215, lr: 0.000300: 100%|██████████| 1715/1715 [02:58<00:00,  9.60it/s]\n"
     ]
    },
    {
     "name": "stdout",
     "output_type": "stream",
     "text": [
      "valid: loss: 5.069, ppl: 189.823\n"
     ]
    },
    {
     "name": "stderr",
     "output_type": "stream",
     "text": [
      "Epoch: 16, Loss: 9747.20988463, lr: 0.000300: 100%|██████████| 1715/1715 [03:01<00:00,  9.43it/s]\n"
     ]
    },
    {
     "name": "stdout",
     "output_type": "stream",
     "text": [
      "valid: loss: 5.041, ppl: 186.053\n"
     ]
    },
    {
     "name": "stderr",
     "output_type": "stream",
     "text": [
      "Epoch: 17, Loss: 9676.17954116, lr: 0.000300: 100%|██████████| 1715/1715 [02:57<00:00,  9.64it/s]\n"
     ]
    },
    {
     "name": "stdout",
     "output_type": "stream",
     "text": [
      "valid: loss: 5.013, ppl: 181.954\n"
     ]
    },
    {
     "name": "stderr",
     "output_type": "stream",
     "text": [
      "Epoch: 18, Loss: 9607.01989340, lr: 0.000300: 100%|██████████| 1715/1715 [03:03<00:00,  9.33it/s]\n"
     ]
    },
    {
     "name": "stdout",
     "output_type": "stream",
     "text": [
      "valid: loss: 4.974, ppl: 175.669\n"
     ]
    },
    {
     "name": "stderr",
     "output_type": "stream",
     "text": [
      "Epoch: 19, Loss: 9536.96346404, lr: 0.000300: 100%|██████████| 1715/1715 [03:01<00:00,  9.44it/s]\n"
     ]
    },
    {
     "name": "stdout",
     "output_type": "stream",
     "text": [
      "valid: loss: 4.944, ppl: 170.968\n"
     ]
    },
    {
     "name": "stderr",
     "output_type": "stream",
     "text": [
      "Epoch: 20, Loss: 9467.30028614, lr: 0.000300: 100%|██████████| 1715/1715 [03:04<00:00,  9.32it/s]\n"
     ]
    },
    {
     "name": "stdout",
     "output_type": "stream",
     "text": [
      "valid: loss: 4.916, ppl: 167.397\n"
     ]
    },
    {
     "name": "stderr",
     "output_type": "stream",
     "text": [
      "Epoch: 21, Loss: 9398.34601631, lr: 0.000300: 100%|██████████| 1715/1715 [03:00<00:00,  9.50it/s]\n"
     ]
    },
    {
     "name": "stdout",
     "output_type": "stream",
     "text": [
      "valid: loss: 4.897, ppl: 165.504\n"
     ]
    },
    {
     "name": "stderr",
     "output_type": "stream",
     "text": [
      "Epoch: 22, Loss: 9331.43460818, lr: 0.000300: 100%|██████████| 1715/1715 [03:03<00:00,  9.36it/s]\n"
     ]
    },
    {
     "name": "stdout",
     "output_type": "stream",
     "text": [
      "valid: loss: 4.867, ppl: 160.120\n"
     ]
    },
    {
     "name": "stderr",
     "output_type": "stream",
     "text": [
      "Epoch: 23, Loss: 9269.32662542, lr: 0.000300: 100%|██████████| 1715/1715 [03:02<00:00,  9.39it/s]\n"
     ]
    },
    {
     "name": "stdout",
     "output_type": "stream",
     "text": [
      "valid: loss: 4.840, ppl: 157.693\n"
     ]
    },
    {
     "name": "stderr",
     "output_type": "stream",
     "text": [
      "Epoch: 24, Loss: 9210.72306140, lr: 0.000300: 100%|██████████| 1715/1715 [03:04<00:00,  9.30it/s]\n"
     ]
    },
    {
     "name": "stdout",
     "output_type": "stream",
     "text": [
      "valid: loss: 4.818, ppl: 154.020\n"
     ]
    },
    {
     "name": "stderr",
     "output_type": "stream",
     "text": [
      "Epoch: 25, Loss: 9155.54904365, lr: 0.000300: 100%|██████████| 1715/1715 [03:03<00:00,  9.33it/s]\n"
     ]
    },
    {
     "name": "stdout",
     "output_type": "stream",
     "text": [
      "valid: loss: 4.795, ppl: 150.976\n"
     ]
    },
    {
     "name": "stderr",
     "output_type": "stream",
     "text": [
      "Epoch: 26, Loss: 9103.91611926, lr: 0.000300: 100%|██████████| 1715/1715 [03:05<00:00,  9.25it/s]\n"
     ]
    },
    {
     "name": "stdout",
     "output_type": "stream",
     "text": [
      "valid: loss: 4.782, ppl: 150.567\n"
     ]
    },
    {
     "name": "stderr",
     "output_type": "stream",
     "text": [
      "Epoch: 27, Loss: 9054.61323399, lr: 0.000300: 100%|██████████| 1715/1715 [03:00<00:00,  9.52it/s]\n"
     ]
    },
    {
     "name": "stdout",
     "output_type": "stream",
     "text": [
      "valid: loss: 4.762, ppl: 147.686\n"
     ]
    },
    {
     "name": "stderr",
     "output_type": "stream",
     "text": [
      "Epoch: 28, Loss: 9005.99163487, lr: 0.000300: 100%|██████████| 1715/1715 [03:05<00:00,  9.24it/s]\n"
     ]
    },
    {
     "name": "stdout",
     "output_type": "stream",
     "text": [
      "valid: loss: 4.744, ppl: 144.944\n"
     ]
    },
    {
     "name": "stderr",
     "output_type": "stream",
     "text": [
      "Epoch: 29, Loss: 8959.71713284, lr: 0.000300: 100%|██████████| 1715/1715 [02:57<00:00,  9.67it/s]\n"
     ]
    },
    {
     "name": "stdout",
     "output_type": "stream",
     "text": [
      "valid: loss: 4.726, ppl: 143.134\n"
     ]
    },
    {
     "name": "stderr",
     "output_type": "stream",
     "text": [
      "Epoch: 30, Loss: 8914.87006167, lr: 0.000300: 100%|██████████| 1715/1715 [03:03<00:00,  9.33it/s]\n"
     ]
    },
    {
     "name": "stdout",
     "output_type": "stream",
     "text": [
      "valid: loss: 4.713, ppl: 141.347\n"
     ]
    }
   ],
   "source": [
    "train(args)"
   ]
  },
  {
   "cell_type": "code",
   "execution_count": 33,
   "metadata": {},
   "outputs": [
    {
     "data": {
      "text/plain": [
       "{'embedding_dim': 512,\n",
       " 'device': 'cuda:0',\n",
       " 'hidden_size': 512,\n",
       " 'num_layers': 6,\n",
       " 'batch_size': 64,\n",
       " 'lr': 0.0003,\n",
       " 'weight_decay': 0.00514,\n",
       " 'num_epoch': 10,\n",
       " 'save_interval': 1,\n",
       " 'save_dir': 'models_lstm_lm',\n",
       " 'seq2seq': False,\n",
       " 'model_type': 'lstm',\n",
       " 'load': './models_lstm_lm_lstm_lm/lstm_30.pt',\n",
       " 'start_epoch': 30}"
      ]
     },
     "execution_count": 33,
     "metadata": {},
     "output_type": "execute_result"
    }
   ],
   "source": [
    "N = 30\n",
    "args.num_epoch = 10\n",
    "args.load = f'./models_lstm_lm_lstm_lm/lstm_{N}.pt'\n",
    "args.lr = 3e-4\n",
    "args.weight_decay = 5.14e-3\n",
    "args.start_epoch = N\n",
    "args.save_dir = 'models_lstm_lm'\n",
    "args.__dict__"
   ]
  },
  {
   "cell_type": "code",
   "execution_count": 34,
   "metadata": {},
   "outputs": [
    {
     "name": "stdout",
     "output_type": "stream",
     "text": [
      "model loaded from ./models_lstm_lm_lstm_lm/lstm_30.pt\n"
     ]
    },
    {
     "name": "stderr",
     "output_type": "stream",
     "text": [
      "Epoch: 31, Loss: 8861.10049716, lr: 0.000300:   1%|          | 10/1715 [00:00<00:59, 28.89it/s]"
     ]
    },
    {
     "name": "stderr",
     "output_type": "stream",
     "text": [
      "Epoch: 31, Loss: 8902.91580465, lr: 0.000300: 100%|██████████| 1715/1715 [00:44<00:00, 38.64it/s]\n"
     ]
    },
    {
     "name": "stdout",
     "output_type": "stream",
     "text": [
      "valid: loss: 4.703, ppl: 140.126\n"
     ]
    },
    {
     "name": "stderr",
     "output_type": "stream",
     "text": [
      "Epoch: 32, Loss: 8850.63702026, lr: 0.000300: 100%|██████████| 1715/1715 [00:44<00:00, 38.11it/s]\n"
     ]
    },
    {
     "name": "stdout",
     "output_type": "stream",
     "text": [
      "valid: loss: 4.689, ppl: 139.072\n"
     ]
    },
    {
     "name": "stderr",
     "output_type": "stream",
     "text": [
      "Epoch: 33, Loss: 8810.72852787, lr: 0.000300: 100%|██████████| 1715/1715 [00:56<00:00, 30.40it/s]\n"
     ]
    },
    {
     "name": "stdout",
     "output_type": "stream",
     "text": [
      "valid: loss: 4.671, ppl: 136.427\n"
     ]
    },
    {
     "name": "stderr",
     "output_type": "stream",
     "text": [
      "Epoch: 34, Loss: 8773.58447607, lr: 0.000300: 100%|██████████| 1715/1715 [01:29<00:00, 19.24it/s]\n"
     ]
    },
    {
     "name": "stdout",
     "output_type": "stream",
     "text": [
      "valid: loss: 4.668, ppl: 136.840\n"
     ]
    },
    {
     "name": "stderr",
     "output_type": "stream",
     "text": [
      "Epoch: 35, Loss: 8741.58285635, lr: 0.000300: 100%|██████████| 1715/1715 [03:03<00:00,  9.34it/s]\n"
     ]
    },
    {
     "name": "stdout",
     "output_type": "stream",
     "text": [
      "valid: loss: 4.654, ppl: 134.574\n"
     ]
    },
    {
     "name": "stderr",
     "output_type": "stream",
     "text": [
      "Epoch: 36, Loss: 8707.85579275, lr: 0.000300: 100%|██████████| 1715/1715 [03:01<00:00,  9.43it/s]\n"
     ]
    },
    {
     "name": "stdout",
     "output_type": "stream",
     "text": [
      "valid: loss: 4.645, ppl: 133.391\n"
     ]
    },
    {
     "name": "stderr",
     "output_type": "stream",
     "text": [
      "Epoch: 37, Loss: 8679.04132682, lr: 0.000300: 100%|██████████| 1715/1715 [02:59<00:00,  9.56it/s]\n"
     ]
    },
    {
     "name": "stdout",
     "output_type": "stream",
     "text": [
      "valid: loss: 4.639, ppl: 133.273\n"
     ]
    },
    {
     "name": "stderr",
     "output_type": "stream",
     "text": [
      "Epoch: 38, Loss: 8650.37391098, lr: 0.000300: 100%|██████████| 1715/1715 [02:58<00:00,  9.63it/s]\n"
     ]
    },
    {
     "name": "stdout",
     "output_type": "stream",
     "text": [
      "valid: loss: 4.633, ppl: 132.981\n"
     ]
    },
    {
     "name": "stderr",
     "output_type": "stream",
     "text": [
      "Epoch: 39, Loss: 8623.04295580, lr: 0.000300: 100%|██████████| 1715/1715 [02:59<00:00,  9.55it/s]\n"
     ]
    },
    {
     "name": "stdout",
     "output_type": "stream",
     "text": [
      "valid: loss: 4.622, ppl: 131.135\n"
     ]
    },
    {
     "name": "stderr",
     "output_type": "stream",
     "text": [
      "Epoch: 40, Loss: 8597.72444880, lr: 0.000300: 100%|██████████| 1715/1715 [03:07<00:00,  9.14it/s]\n"
     ]
    },
    {
     "name": "stdout",
     "output_type": "stream",
     "text": [
      "valid: loss: 4.619, ppl: 131.003\n"
     ]
    }
   ],
   "source": [
    "train(args)"
   ]
  },
  {
   "cell_type": "code",
   "execution_count": 35,
   "metadata": {},
   "outputs": [
    {
     "data": {
      "text/plain": [
       "{'embedding_dim': 512,\n",
       " 'device': 'cuda:0',\n",
       " 'hidden_size': 512,\n",
       " 'num_layers': 6,\n",
       " 'batch_size': 64,\n",
       " 'lr': 0.00015,\n",
       " 'weight_decay': 0.0065,\n",
       " 'num_epoch': 20,\n",
       " 'save_interval': 1,\n",
       " 'save_dir': 'models_lstm_lm',\n",
       " 'seq2seq': False,\n",
       " 'model_type': 'lstm',\n",
       " 'load': './models_lstm_lm_lstm_lm/lstm_40.pt',\n",
       " 'start_epoch': 40}"
      ]
     },
     "execution_count": 35,
     "metadata": {},
     "output_type": "execute_result"
    }
   ],
   "source": [
    "N = 40\n",
    "args.num_epoch = 20\n",
    "args.load = f'./models_lstm_lm_lstm_lm/lstm_{N}.pt'\n",
    "args.lr = 1.5e-4\n",
    "args.weight_decay = 6.5e-3\n",
    "args.start_epoch = N\n",
    "args.save_dir = 'models_lstm_lm'\n",
    "args.__dict__"
   ]
  },
  {
   "cell_type": "code",
   "execution_count": 36,
   "metadata": {},
   "outputs": [
    {
     "name": "stdout",
     "output_type": "stream",
     "text": [
      "model loaded from ./models_lstm_lm_lstm_lm/lstm_40.pt\n"
     ]
    },
    {
     "name": "stderr",
     "output_type": "stream",
     "text": [
      "Epoch: 41, Loss: 8532.82296687, lr: 0.000150: 100%|██████████| 1715/1715 [00:45<00:00, 37.59it/s]\n"
     ]
    },
    {
     "name": "stdout",
     "output_type": "stream",
     "text": [
      "valid: loss: 4.600, ppl: 129.217\n"
     ]
    },
    {
     "name": "stderr",
     "output_type": "stream",
     "text": [
      "Epoch: 42, Loss: 8500.66554101, lr: 0.000150: 100%|██████████| 1715/1715 [02:57<00:00,  9.66it/s]\n"
     ]
    },
    {
     "name": "stdout",
     "output_type": "stream",
     "text": [
      "valid: loss: 4.597, ppl: 128.932\n"
     ]
    },
    {
     "name": "stderr",
     "output_type": "stream",
     "text": [
      "Epoch: 43, Loss: 8481.90038094, lr: 0.000150: 100%|██████████| 1715/1715 [02:52<00:00,  9.93it/s]\n"
     ]
    },
    {
     "name": "stdout",
     "output_type": "stream",
     "text": [
      "valid: loss: 4.594, ppl: 128.845\n"
     ]
    },
    {
     "name": "stderr",
     "output_type": "stream",
     "text": [
      "Epoch: 44, Loss: 8464.79538339, lr: 0.000150: 100%|██████████| 1715/1715 [03:09<00:00,  9.07it/s]\n"
     ]
    },
    {
     "name": "stdout",
     "output_type": "stream",
     "text": [
      "valid: loss: 4.590, ppl: 128.699\n"
     ]
    },
    {
     "name": "stderr",
     "output_type": "stream",
     "text": [
      "Epoch: 45, Loss: 8448.39223918, lr: 0.000150: 100%|██████████| 1715/1715 [03:05<00:00,  9.27it/s]\n"
     ]
    },
    {
     "name": "stdout",
     "output_type": "stream",
     "text": [
      "valid: loss: 4.585, ppl: 127.929\n"
     ]
    },
    {
     "name": "stderr",
     "output_type": "stream",
     "text": [
      "Epoch: 46, Loss: 8433.98980731, lr: 0.000150: 100%|██████████| 1715/1715 [03:01<00:00,  9.47it/s]\n"
     ]
    },
    {
     "name": "stdout",
     "output_type": "stream",
     "text": [
      "valid: loss: 4.586, ppl: 128.316\n"
     ]
    },
    {
     "name": "stderr",
     "output_type": "stream",
     "text": [
      "Epoch: 47, Loss: 8419.87598482, lr: 0.000150: 100%|██████████| 1715/1715 [02:53<00:00,  9.86it/s]\n"
     ]
    },
    {
     "name": "stdout",
     "output_type": "stream",
     "text": [
      "valid: loss: 4.583, ppl: 128.552\n"
     ]
    },
    {
     "name": "stderr",
     "output_type": "stream",
     "text": [
      "Epoch: 48, Loss: 8405.26086461, lr: 0.000150: 100%|██████████| 1715/1715 [02:50<00:00, 10.05it/s]\n"
     ]
    },
    {
     "name": "stdout",
     "output_type": "stream",
     "text": [
      "valid: loss: 4.578, ppl: 127.337\n"
     ]
    },
    {
     "name": "stderr",
     "output_type": "stream",
     "text": [
      "Epoch: 49, Loss: 8393.42315564, lr: 0.000150: 100%|██████████| 1715/1715 [02:59<00:00,  9.58it/s]\n"
     ]
    },
    {
     "name": "stdout",
     "output_type": "stream",
     "text": [
      "valid: loss: 4.581, ppl: 128.163\n"
     ]
    },
    {
     "name": "stderr",
     "output_type": "stream",
     "text": [
      "Epoch: 50, Loss: 8379.85018592, lr: 0.000150: 100%|██████████| 1715/1715 [02:50<00:00, 10.09it/s]\n"
     ]
    },
    {
     "name": "stdout",
     "output_type": "stream",
     "text": [
      "valid: loss: 4.579, ppl: 127.716\n"
     ]
    },
    {
     "name": "stderr",
     "output_type": "stream",
     "text": [
      "Epoch: 51, Loss: 8368.77885073, lr: 0.000150: 100%|██████████| 1715/1715 [02:57<00:00,  9.64it/s]\n"
     ]
    },
    {
     "name": "stdout",
     "output_type": "stream",
     "text": [
      "valid: loss: 4.577, ppl: 127.655\n"
     ]
    },
    {
     "name": "stderr",
     "output_type": "stream",
     "text": [
      "Epoch: 52, Loss: 8356.08796707, lr: 0.000150: 100%|██████████| 1715/1715 [02:51<00:00,  9.98it/s]\n"
     ]
    },
    {
     "name": "stdout",
     "output_type": "stream",
     "text": [
      "valid: loss: 4.575, ppl: 127.578\n"
     ]
    },
    {
     "name": "stderr",
     "output_type": "stream",
     "text": [
      "Epoch: 53, Loss: 8345.17144822, lr: 0.000150: 100%|██████████| 1715/1715 [02:49<00:00, 10.13it/s]\n"
     ]
    },
    {
     "name": "stdout",
     "output_type": "stream",
     "text": [
      "valid: loss: 4.569, ppl: 126.702\n"
     ]
    },
    {
     "name": "stderr",
     "output_type": "stream",
     "text": [
      "Epoch: 54, Loss: 8334.32115710, lr: 0.000150: 100%|██████████| 1715/1715 [02:55<00:00,  9.80it/s]\n"
     ]
    },
    {
     "name": "stdout",
     "output_type": "stream",
     "text": [
      "valid: loss: 4.572, ppl: 127.523\n"
     ]
    },
    {
     "name": "stderr",
     "output_type": "stream",
     "text": [
      "Epoch: 55, Loss: 8322.95043774, lr: 0.000150: 100%|██████████| 1715/1715 [02:52<00:00,  9.94it/s]\n"
     ]
    },
    {
     "name": "stdout",
     "output_type": "stream",
     "text": [
      "valid: loss: 4.571, ppl: 127.448\n"
     ]
    },
    {
     "name": "stderr",
     "output_type": "stream",
     "text": [
      "Epoch: 56, Loss: 8312.36760161, lr: 0.000150: 100%|██████████| 1715/1715 [02:56<00:00,  9.69it/s]\n"
     ]
    },
    {
     "name": "stdout",
     "output_type": "stream",
     "text": [
      "valid: loss: 4.572, ppl: 128.065\n"
     ]
    },
    {
     "name": "stderr",
     "output_type": "stream",
     "text": [
      "Epoch: 57, Loss: 8274.06328668, lr: 0.000150:  19%|█▉        | 324/1715 [00:32<02:21,  9.84it/s]\n"
     ]
    },
    {
     "ename": "KeyboardInterrupt",
     "evalue": "",
     "output_type": "error",
     "traceback": [
      "\u001b[0;31m---------------------------------------------------------------------------\u001b[0m",
      "\u001b[0;31mKeyboardInterrupt\u001b[0m                         Traceback (most recent call last)",
      "Cell \u001b[0;32mIn[36], line 1\u001b[0m\n\u001b[0;32m----> 1\u001b[0m \u001b[43mtrain\u001b[49m\u001b[43m(\u001b[49m\u001b[43margs\u001b[49m\u001b[43m)\u001b[49m\n",
      "File \u001b[0;32m~/DL_2024_sp4/generation/train.py:79\u001b[0m, in \u001b[0;36mtrain\u001b[0;34m(args)\u001b[0m\n\u001b[1;32m     77\u001b[0m optimizer\u001b[38;5;241m.\u001b[39mzero_grad()\n\u001b[1;32m     78\u001b[0m loss \u001b[38;5;241m=\u001b[39m model\u001b[38;5;241m.\u001b[39mget_loss(\u001b[38;5;241m*\u001b[39m\u001b[38;5;241m*\u001b[39msamples)\n\u001b[0;32m---> 79\u001b[0m \u001b[43mloss\u001b[49m\u001b[38;5;241;43m.\u001b[39;49m\u001b[43mbackward\u001b[49m\u001b[43m(\u001b[49m\u001b[43m)\u001b[49m\n\u001b[1;32m     80\u001b[0m optimizer\u001b[38;5;241m.\u001b[39mstep()\n\u001b[1;32m     81\u001b[0m losses\u001b[38;5;241m.\u001b[39mappend(loss\u001b[38;5;241m.\u001b[39mitem())\n",
      "File \u001b[0;32m/opt/conda/lib/python3.10/site-packages/torch/_tensor.py:492\u001b[0m, in \u001b[0;36mTensor.backward\u001b[0;34m(self, gradient, retain_graph, create_graph, inputs)\u001b[0m\n\u001b[1;32m    482\u001b[0m \u001b[38;5;28;01mif\u001b[39;00m has_torch_function_unary(\u001b[38;5;28mself\u001b[39m):\n\u001b[1;32m    483\u001b[0m     \u001b[38;5;28;01mreturn\u001b[39;00m handle_torch_function(\n\u001b[1;32m    484\u001b[0m         Tensor\u001b[38;5;241m.\u001b[39mbackward,\n\u001b[1;32m    485\u001b[0m         (\u001b[38;5;28mself\u001b[39m,),\n\u001b[0;32m   (...)\u001b[0m\n\u001b[1;32m    490\u001b[0m         inputs\u001b[38;5;241m=\u001b[39minputs,\n\u001b[1;32m    491\u001b[0m     )\n\u001b[0;32m--> 492\u001b[0m \u001b[43mtorch\u001b[49m\u001b[38;5;241;43m.\u001b[39;49m\u001b[43mautograd\u001b[49m\u001b[38;5;241;43m.\u001b[39;49m\u001b[43mbackward\u001b[49m\u001b[43m(\u001b[49m\n\u001b[1;32m    493\u001b[0m \u001b[43m    \u001b[49m\u001b[38;5;28;43mself\u001b[39;49m\u001b[43m,\u001b[49m\u001b[43m \u001b[49m\u001b[43mgradient\u001b[49m\u001b[43m,\u001b[49m\u001b[43m \u001b[49m\u001b[43mretain_graph\u001b[49m\u001b[43m,\u001b[49m\u001b[43m \u001b[49m\u001b[43mcreate_graph\u001b[49m\u001b[43m,\u001b[49m\u001b[43m \u001b[49m\u001b[43minputs\u001b[49m\u001b[38;5;241;43m=\u001b[39;49m\u001b[43minputs\u001b[49m\n\u001b[1;32m    494\u001b[0m \u001b[43m\u001b[49m\u001b[43m)\u001b[49m\n",
      "File \u001b[0;32m/opt/conda/lib/python3.10/site-packages/torch/autograd/__init__.py:251\u001b[0m, in \u001b[0;36mbackward\u001b[0;34m(tensors, grad_tensors, retain_graph, create_graph, grad_variables, inputs)\u001b[0m\n\u001b[1;32m    246\u001b[0m     retain_graph \u001b[38;5;241m=\u001b[39m create_graph\n\u001b[1;32m    248\u001b[0m \u001b[38;5;66;03m# The reason we repeat the same comment below is that\u001b[39;00m\n\u001b[1;32m    249\u001b[0m \u001b[38;5;66;03m# some Python versions print out the first line of a multi-line function\u001b[39;00m\n\u001b[1;32m    250\u001b[0m \u001b[38;5;66;03m# calls in the traceback and some print out the last line\u001b[39;00m\n\u001b[0;32m--> 251\u001b[0m \u001b[43mVariable\u001b[49m\u001b[38;5;241;43m.\u001b[39;49m\u001b[43m_execution_engine\u001b[49m\u001b[38;5;241;43m.\u001b[39;49m\u001b[43mrun_backward\u001b[49m\u001b[43m(\u001b[49m\u001b[43m  \u001b[49m\u001b[38;5;66;43;03m# Calls into the C++ engine to run the backward pass\u001b[39;49;00m\n\u001b[1;32m    252\u001b[0m \u001b[43m    \u001b[49m\u001b[43mtensors\u001b[49m\u001b[43m,\u001b[49m\n\u001b[1;32m    253\u001b[0m \u001b[43m    \u001b[49m\u001b[43mgrad_tensors_\u001b[49m\u001b[43m,\u001b[49m\n\u001b[1;32m    254\u001b[0m \u001b[43m    \u001b[49m\u001b[43mretain_graph\u001b[49m\u001b[43m,\u001b[49m\n\u001b[1;32m    255\u001b[0m \u001b[43m    \u001b[49m\u001b[43mcreate_graph\u001b[49m\u001b[43m,\u001b[49m\n\u001b[1;32m    256\u001b[0m \u001b[43m    \u001b[49m\u001b[43minputs\u001b[49m\u001b[43m,\u001b[49m\n\u001b[1;32m    257\u001b[0m \u001b[43m    \u001b[49m\u001b[43mallow_unreachable\u001b[49m\u001b[38;5;241;43m=\u001b[39;49m\u001b[38;5;28;43;01mTrue\u001b[39;49;00m\u001b[43m,\u001b[49m\n\u001b[1;32m    258\u001b[0m \u001b[43m    \u001b[49m\u001b[43maccumulate_grad\u001b[49m\u001b[38;5;241;43m=\u001b[39;49m\u001b[38;5;28;43;01mTrue\u001b[39;49;00m\u001b[43m,\u001b[49m\n\u001b[1;32m    259\u001b[0m \u001b[43m\u001b[49m\u001b[43m)\u001b[49m\n",
      "\u001b[0;31mKeyboardInterrupt\u001b[0m: "
     ]
    }
   ],
   "source": [
    "train(args)"
   ]
  },
  {
   "cell_type": "code",
   "execution_count": 37,
   "metadata": {},
   "outputs": [
    {
     "data": {
      "text/plain": [
       "{'embedding_dim': 512,\n",
       " 'device': 'cuda:0',\n",
       " 'hidden_size': 512,\n",
       " 'num_layers': 6,\n",
       " 'batch_size': 64,\n",
       " 'lr': 0.0002,\n",
       " 'weight_decay': 0.01,\n",
       " 'num_epoch': 20,\n",
       " 'save_interval': 1,\n",
       " 'save_dir': 'models_lstm_lm',\n",
       " 'seq2seq': False,\n",
       " 'model_type': 'lstm',\n",
       " 'load': './models_lstm_lm_lstm_lm/lstm_53.pt',\n",
       " 'start_epoch': 53}"
      ]
     },
     "execution_count": 37,
     "metadata": {},
     "output_type": "execute_result"
    }
   ],
   "source": [
    "N = 53\n",
    "args.num_epoch = 20\n",
    "args.load = f'./models_lstm_lm_lstm_lm/lstm_{N}.pt'\n",
    "args.lr = 2e-4\n",
    "args.weight_decay = 1e-2\n",
    "args.start_epoch = N\n",
    "args.save_dir = 'models_lstm_lm'\n",
    "args.__dict__"
   ]
  },
  {
   "cell_type": "code",
   "execution_count": 38,
   "metadata": {},
   "outputs": [
    {
     "name": "stdout",
     "output_type": "stream",
     "text": [
      "model loaded from ./models_lstm_lm_lstm_lm/lstm_53.pt\n"
     ]
    },
    {
     "name": "stderr",
     "output_type": "stream",
     "text": [
      "Epoch: 54, Loss: 8386.06697026, lr: 0.000200: 100%|██████████| 1715/1715 [01:28<00:00, 19.36it/s]\n"
     ]
    },
    {
     "name": "stdout",
     "output_type": "stream",
     "text": [
      "valid: loss: 4.573, ppl: 126.702\n"
     ]
    },
    {
     "name": "stderr",
     "output_type": "stream",
     "text": [
      "Epoch: 55, Loss: 8368.00563246, lr: 0.000200: 100%|██████████| 1715/1715 [00:43<00:00, 39.69it/s]\n"
     ]
    },
    {
     "name": "stdout",
     "output_type": "stream",
     "text": [
      "valid: loss: 4.572, ppl: 127.327\n"
     ]
    },
    {
     "name": "stderr",
     "output_type": "stream",
     "text": [
      "Epoch: 56, Loss: 8357.00860400, lr: 0.000200: 100%|██████████| 1715/1715 [00:43<00:00, 39.41it/s]\n"
     ]
    },
    {
     "name": "stdout",
     "output_type": "stream",
     "text": [
      "valid: loss: 4.568, ppl: 125.990\n"
     ]
    },
    {
     "name": "stderr",
     "output_type": "stream",
     "text": [
      "Epoch: 57, Loss: 8345.86326303, lr: 0.000200: 100%|██████████| 1715/1715 [00:44<00:00, 38.61it/s]\n"
     ]
    },
    {
     "name": "stdout",
     "output_type": "stream",
     "text": [
      "valid: loss: 4.570, ppl: 126.811\n"
     ]
    },
    {
     "name": "stderr",
     "output_type": "stream",
     "text": [
      "Epoch: 58, Loss: 8334.63073496, lr: 0.000200: 100%|██████████| 1715/1715 [00:44<00:00, 38.55it/s]\n"
     ]
    },
    {
     "name": "stdout",
     "output_type": "stream",
     "text": [
      "valid: loss: 4.565, ppl: 126.211\n"
     ]
    },
    {
     "name": "stderr",
     "output_type": "stream",
     "text": [
      "Epoch: 59, Loss: 8323.20062551, lr: 0.000200: 100%|██████████| 1715/1715 [00:44<00:00, 38.34it/s]\n"
     ]
    },
    {
     "name": "stdout",
     "output_type": "stream",
     "text": [
      "valid: loss: 4.564, ppl: 126.330\n"
     ]
    },
    {
     "name": "stderr",
     "output_type": "stream",
     "text": [
      "Epoch: 60, Loss: 8313.09219889, lr: 0.000200: 100%|██████████| 1715/1715 [00:44<00:00, 38.70it/s]\n"
     ]
    },
    {
     "name": "stdout",
     "output_type": "stream",
     "text": [
      "valid: loss: 4.560, ppl: 125.835\n"
     ]
    },
    {
     "name": "stderr",
     "output_type": "stream",
     "text": [
      "Epoch: 61, Loss: 8302.43504521, lr: 0.000200: 100%|██████████| 1715/1715 [00:44<00:00, 38.38it/s]\n"
     ]
    },
    {
     "name": "stdout",
     "output_type": "stream",
     "text": [
      "valid: loss: 4.559, ppl: 126.041\n"
     ]
    },
    {
     "name": "stderr",
     "output_type": "stream",
     "text": [
      "Epoch: 62, Loss: 8291.75356872, lr: 0.000200: 100%|██████████| 1715/1715 [00:43<00:00, 39.04it/s]\n"
     ]
    },
    {
     "name": "stdout",
     "output_type": "stream",
     "text": [
      "valid: loss: 4.560, ppl: 126.125\n"
     ]
    },
    {
     "name": "stderr",
     "output_type": "stream",
     "text": [
      "Epoch: 63, Loss: 8281.73221987, lr: 0.000200: 100%|██████████| 1715/1715 [00:44<00:00, 38.95it/s]\n"
     ]
    },
    {
     "name": "stdout",
     "output_type": "stream",
     "text": [
      "valid: loss: 4.558, ppl: 126.211\n"
     ]
    },
    {
     "name": "stderr",
     "output_type": "stream",
     "text": [
      "Epoch: 64, Loss: 8271.54114204, lr: 0.000200: 100%|██████████| 1715/1715 [00:44<00:00, 38.36it/s]\n"
     ]
    },
    {
     "name": "stdout",
     "output_type": "stream",
     "text": [
      "valid: loss: 4.553, ppl: 124.913\n"
     ]
    },
    {
     "name": "stderr",
     "output_type": "stream",
     "text": [
      "Epoch: 65, Loss: 8261.40530960, lr: 0.000200: 100%|██████████| 1715/1715 [00:44<00:00, 38.41it/s]\n"
     ]
    },
    {
     "name": "stdout",
     "output_type": "stream",
     "text": [
      "valid: loss: 4.552, ppl: 125.093\n"
     ]
    },
    {
     "name": "stderr",
     "output_type": "stream",
     "text": [
      "Epoch: 66, Loss: 8252.13484278, lr: 0.000200: 100%|██████████| 1715/1715 [00:44<00:00, 38.90it/s]\n"
     ]
    },
    {
     "name": "stdout",
     "output_type": "stream",
     "text": [
      "valid: loss: 4.556, ppl: 126.231\n"
     ]
    },
    {
     "name": "stderr",
     "output_type": "stream",
     "text": [
      "Epoch: 67, Loss: 8242.57057187, lr: 0.000200: 100%|██████████| 1715/1715 [00:44<00:00, 38.29it/s]\n"
     ]
    },
    {
     "name": "stdout",
     "output_type": "stream",
     "text": [
      "valid: loss: 4.554, ppl: 126.191\n"
     ]
    },
    {
     "name": "stderr",
     "output_type": "stream",
     "text": [
      "Epoch: 68, Loss: 8232.50450087, lr: 0.000200: 100%|██████████| 1715/1715 [00:44<00:00, 38.61it/s]\n"
     ]
    },
    {
     "name": "stdout",
     "output_type": "stream",
     "text": [
      "valid: loss: 4.551, ppl: 125.310\n"
     ]
    },
    {
     "name": "stderr",
     "output_type": "stream",
     "text": [
      "Epoch: 69, Loss: 8223.60384233, lr: 0.000200: 100%|██████████| 1715/1715 [00:45<00:00, 37.98it/s]\n"
     ]
    },
    {
     "name": "stdout",
     "output_type": "stream",
     "text": [
      "valid: loss: 4.553, ppl: 126.091\n"
     ]
    },
    {
     "name": "stderr",
     "output_type": "stream",
     "text": [
      "Epoch: 70, Loss: 8213.31036352, lr: 0.000200: 100%|██████████| 1715/1715 [00:44<00:00, 38.65it/s]\n"
     ]
    },
    {
     "name": "stdout",
     "output_type": "stream",
     "text": [
      "valid: loss: 4.548, ppl: 125.003\n"
     ]
    },
    {
     "name": "stderr",
     "output_type": "stream",
     "text": [
      "Epoch: 71, Loss: 8205.73996404, lr: 0.000200: 100%|██████████| 1715/1715 [00:44<00:00, 38.69it/s]\n"
     ]
    },
    {
     "name": "stdout",
     "output_type": "stream",
     "text": [
      "valid: loss: 4.548, ppl: 125.388\n"
     ]
    },
    {
     "name": "stderr",
     "output_type": "stream",
     "text": [
      "Epoch: 72, Loss: 8196.10764708, lr: 0.000200: 100%|██████████| 1715/1715 [00:44<00:00, 38.57it/s]\n"
     ]
    },
    {
     "name": "stdout",
     "output_type": "stream",
     "text": [
      "valid: loss: 4.548, ppl: 125.520\n"
     ]
    },
    {
     "name": "stderr",
     "output_type": "stream",
     "text": [
      "Epoch: 73, Loss: 8186.89804090, lr: 0.000200: 100%|██████████| 1715/1715 [00:44<00:00, 38.30it/s]\n"
     ]
    },
    {
     "name": "stdout",
     "output_type": "stream",
     "text": [
      "valid: loss: 4.548, ppl: 125.811\n"
     ]
    }
   ],
   "source": [
    "train(args)"
   ]
  },
  {
   "cell_type": "code",
   "execution_count": 39,
   "metadata": {},
   "outputs": [
    {
     "data": {
      "text/plain": [
       "{'embedding_dim': 512,\n",
       " 'device': 'cuda:0',\n",
       " 'hidden_size': 512,\n",
       " 'num_layers': 6,\n",
       " 'batch_size': 64,\n",
       " 'lr': 0.0003,\n",
       " 'weight_decay': 0.03,\n",
       " 'num_epoch': 10,\n",
       " 'save_interval': 1,\n",
       " 'save_dir': 'models_lstm_lm',\n",
       " 'seq2seq': False,\n",
       " 'model_type': 'lstm',\n",
       " 'load': './models_lstm_lm_lstm_lm/lstm_73.pt',\n",
       " 'start_epoch': 73}"
      ]
     },
     "execution_count": 39,
     "metadata": {},
     "output_type": "execute_result"
    }
   ],
   "source": [
    "N = 73\n",
    "args.num_epoch = 10\n",
    "args.load = f'./models_lstm_lm_lstm_lm/lstm_{N}.pt'\n",
    "args.lr = 3e-4\n",
    "args.weight_decay = 3e-2\n",
    "args.start_epoch = N\n",
    "args.save_dir = 'models_lstm_lm'\n",
    "args.__dict__"
   ]
  },
  {
   "cell_type": "code",
   "execution_count": 40,
   "metadata": {},
   "outputs": [
    {
     "name": "stdout",
     "output_type": "stream",
     "text": [
      "model loaded from ./models_lstm_lm_lstm_lm/lstm_73.pt\n"
     ]
    },
    {
     "name": "stderr",
     "output_type": "stream",
     "text": [
      "Epoch: 74, Loss: 8289.03030205, lr: 0.000300: 100%|██████████| 1715/1715 [00:44<00:00, 38.34it/s]\n"
     ]
    },
    {
     "name": "stdout",
     "output_type": "stream",
     "text": [
      "valid: loss: 4.548, ppl: 124.023\n"
     ]
    },
    {
     "name": "stderr",
     "output_type": "stream",
     "text": [
      "Epoch: 75, Loss: 8305.53943775, lr: 0.000300: 100%|██████████| 1715/1715 [00:45<00:00, 37.54it/s]\n"
     ]
    },
    {
     "name": "stdout",
     "output_type": "stream",
     "text": [
      "valid: loss: 4.548, ppl: 124.692\n"
     ]
    },
    {
     "name": "stderr",
     "output_type": "stream",
     "text": [
      "Epoch: 76, Loss: 8318.03075944, lr: 0.000300: 100%|██████████| 1715/1715 [00:44<00:00, 38.53it/s]\n"
     ]
    },
    {
     "name": "stdout",
     "output_type": "stream",
     "text": [
      "valid: loss: 4.539, ppl: 122.284\n"
     ]
    },
    {
     "name": "stderr",
     "output_type": "stream",
     "text": [
      "Epoch: 77, Loss: 8327.18310974, lr: 0.000300: 100%|██████████| 1715/1715 [00:45<00:00, 37.59it/s]\n"
     ]
    },
    {
     "name": "stdout",
     "output_type": "stream",
     "text": [
      "valid: loss: 4.535, ppl: 121.823\n"
     ]
    },
    {
     "name": "stderr",
     "output_type": "stream",
     "text": [
      "Epoch: 78, Loss: 8333.00905157, lr: 0.000300: 100%|██████████| 1715/1715 [00:45<00:00, 37.91it/s]\n"
     ]
    },
    {
     "name": "stdout",
     "output_type": "stream",
     "text": [
      "valid: loss: 4.534, ppl: 121.818\n"
     ]
    },
    {
     "name": "stderr",
     "output_type": "stream",
     "text": [
      "Epoch: 79, Loss: 8336.78073382, lr: 0.000300: 100%|██████████| 1715/1715 [00:43<00:00, 39.00it/s]\n"
     ]
    },
    {
     "name": "stdout",
     "output_type": "stream",
     "text": [
      "valid: loss: 4.530, ppl: 121.037\n"
     ]
    },
    {
     "name": "stderr",
     "output_type": "stream",
     "text": [
      "Epoch: 80, Loss: 8337.23204876, lr: 0.000300: 100%|██████████| 1715/1715 [00:45<00:00, 38.11it/s]\n"
     ]
    },
    {
     "name": "stdout",
     "output_type": "stream",
     "text": [
      "valid: loss: 4.523, ppl: 120.220\n"
     ]
    },
    {
     "name": "stderr",
     "output_type": "stream",
     "text": [
      "Epoch: 81, Loss: 8337.91824976, lr: 0.000300: 100%|██████████| 1715/1715 [00:44<00:00, 38.46it/s]\n"
     ]
    },
    {
     "name": "stdout",
     "output_type": "stream",
     "text": [
      "valid: loss: 4.519, ppl: 118.947\n"
     ]
    },
    {
     "name": "stderr",
     "output_type": "stream",
     "text": [
      "Epoch: 82, Loss: 8335.57603265, lr: 0.000300: 100%|██████████| 1715/1715 [00:44<00:00, 38.72it/s]\n"
     ]
    },
    {
     "name": "stdout",
     "output_type": "stream",
     "text": [
      "valid: loss: 4.514, ppl: 118.433\n"
     ]
    },
    {
     "name": "stderr",
     "output_type": "stream",
     "text": [
      "Epoch: 83, Loss: 8333.64963329, lr: 0.000300: 100%|██████████| 1715/1715 [00:46<00:00, 36.87it/s]\n"
     ]
    },
    {
     "name": "stdout",
     "output_type": "stream",
     "text": [
      "valid: loss: 4.513, ppl: 118.202\n"
     ]
    }
   ],
   "source": [
    "train(args)"
   ]
  },
  {
   "cell_type": "code",
   "execution_count": 43,
   "metadata": {},
   "outputs": [
    {
     "data": {
      "text/plain": [
       "{'embedding_dim': 512,\n",
       " 'device': 'cuda:0',\n",
       " 'hidden_size': 512,\n",
       " 'num_layers': 6,\n",
       " 'batch_size': 64,\n",
       " 'lr': 0.00035,\n",
       " 'weight_decay': 0.039,\n",
       " 'num_epoch': 15,\n",
       " 'save_interval': 1,\n",
       " 'save_dir': 'models_lstm_lm',\n",
       " 'seq2seq': False,\n",
       " 'model_type': 'lstm',\n",
       " 'load': './models_lstm_lm_lstm_lm/lstm_83.pt',\n",
       " 'start_epoch': 83}"
      ]
     },
     "execution_count": 43,
     "metadata": {},
     "output_type": "execute_result"
    }
   ],
   "source": [
    "N = 83\n",
    "args.num_epoch = 15\n",
    "args.load = f'./models_lstm_lm_lstm_lm/lstm_{N}.pt'\n",
    "args.lr = 3.5e-4\n",
    "args.weight_decay = 3.9e-2\n",
    "args.start_epoch = N\n",
    "args.save_dir = 'models_lstm_lm'\n",
    "args.__dict__"
   ]
  },
  {
   "cell_type": "code",
   "execution_count": 44,
   "metadata": {},
   "outputs": [
    {
     "name": "stdout",
     "output_type": "stream",
     "text": [
      "model loaded from ./models_lstm_lm_lstm_lm/lstm_83.pt\n"
     ]
    },
    {
     "name": "stderr",
     "output_type": "stream",
     "text": [
      "Epoch: 84, Loss: 8399.49862683, lr: 0.000350: 100%|██████████| 1715/1715 [00:43<00:00, 39.26it/s]\n"
     ]
    },
    {
     "name": "stdout",
     "output_type": "stream",
     "text": [
      "valid: loss: 4.517, ppl: 118.744\n"
     ]
    },
    {
     "name": "stderr",
     "output_type": "stream",
     "text": [
      "Epoch: 85, Loss: 8396.24966219, lr: 0.000350: 100%|██████████| 1715/1715 [00:44<00:00, 38.63it/s]\n"
     ]
    },
    {
     "name": "stdout",
     "output_type": "stream",
     "text": [
      "valid: loss: 4.507, ppl: 117.028\n"
     ]
    },
    {
     "name": "stderr",
     "output_type": "stream",
     "text": [
      "Epoch: 86, Loss: 8394.58446952, lr: 0.000350: 100%|██████████| 1715/1715 [00:44<00:00, 38.18it/s]\n"
     ]
    },
    {
     "name": "stdout",
     "output_type": "stream",
     "text": [
      "valid: loss: 4.515, ppl: 118.667\n"
     ]
    },
    {
     "name": "stderr",
     "output_type": "stream",
     "text": [
      "Epoch: 87, Loss: 8392.94825343, lr: 0.000350: 100%|██████████| 1715/1715 [00:44<00:00, 38.50it/s]\n"
     ]
    },
    {
     "name": "stdout",
     "output_type": "stream",
     "text": [
      "valid: loss: 4.504, ppl: 117.149\n"
     ]
    },
    {
     "name": "stderr",
     "output_type": "stream",
     "text": [
      "Epoch: 88, Loss: 8389.57305869, lr: 0.000350: 100%|██████████| 1715/1715 [00:45<00:00, 37.87it/s]\n"
     ]
    },
    {
     "name": "stdout",
     "output_type": "stream",
     "text": [
      "valid: loss: 4.497, ppl: 116.251\n"
     ]
    },
    {
     "name": "stderr",
     "output_type": "stream",
     "text": [
      "Epoch: 89, Loss: 8385.91403403, lr: 0.000350: 100%|██████████| 1715/1715 [00:44<00:00, 38.80it/s]\n"
     ]
    },
    {
     "name": "stdout",
     "output_type": "stream",
     "text": [
      "valid: loss: 4.494, ppl: 115.084\n"
     ]
    },
    {
     "name": "stderr",
     "output_type": "stream",
     "text": [
      "Epoch: 90, Loss: 8380.75372090, lr: 0.000350: 100%|██████████| 1715/1715 [00:44<00:00, 38.37it/s]\n"
     ]
    },
    {
     "name": "stdout",
     "output_type": "stream",
     "text": [
      "valid: loss: 4.488, ppl: 114.678\n"
     ]
    },
    {
     "name": "stderr",
     "output_type": "stream",
     "text": [
      "Epoch: 91, Loss: 8374.50256782, lr: 0.000350: 100%|██████████| 1715/1715 [00:45<00:00, 37.87it/s]\n"
     ]
    },
    {
     "name": "stdout",
     "output_type": "stream",
     "text": [
      "valid: loss: 4.480, ppl: 113.709\n"
     ]
    },
    {
     "name": "stderr",
     "output_type": "stream",
     "text": [
      "Epoch: 92, Loss: 8368.58406495, lr: 0.000350: 100%|██████████| 1715/1715 [00:45<00:00, 38.11it/s]\n"
     ]
    },
    {
     "name": "stdout",
     "output_type": "stream",
     "text": [
      "valid: loss: 4.479, ppl: 113.628\n"
     ]
    },
    {
     "name": "stderr",
     "output_type": "stream",
     "text": [
      "Epoch: 93, Loss: 8361.12005484, lr: 0.000350: 100%|██████████| 1715/1715 [00:44<00:00, 38.63it/s]\n"
     ]
    },
    {
     "name": "stdout",
     "output_type": "stream",
     "text": [
      "valid: loss: 4.474, ppl: 113.494\n"
     ]
    },
    {
     "name": "stderr",
     "output_type": "stream",
     "text": [
      "Epoch: 94, Loss: 8353.62583051, lr: 0.000350: 100%|██████████| 1715/1715 [00:44<00:00, 38.40it/s]\n"
     ]
    },
    {
     "name": "stdout",
     "output_type": "stream",
     "text": [
      "valid: loss: 4.469, ppl: 112.409\n"
     ]
    },
    {
     "name": "stderr",
     "output_type": "stream",
     "text": [
      "Epoch: 95, Loss: 8345.70318806, lr: 0.000350: 100%|██████████| 1715/1715 [00:44<00:00, 38.21it/s]\n"
     ]
    },
    {
     "name": "stdout",
     "output_type": "stream",
     "text": [
      "valid: loss: 4.469, ppl: 112.678\n"
     ]
    },
    {
     "name": "stderr",
     "output_type": "stream",
     "text": [
      "Epoch: 96, Loss: 8337.35274904, lr: 0.000350: 100%|██████████| 1715/1715 [00:44<00:00, 38.62it/s]\n"
     ]
    },
    {
     "name": "stdout",
     "output_type": "stream",
     "text": [
      "valid: loss: 4.465, ppl: 112.599\n"
     ]
    },
    {
     "name": "stderr",
     "output_type": "stream",
     "text": [
      "Epoch: 97, Loss: 8330.19550938, lr: 0.000350: 100%|██████████| 1715/1715 [00:44<00:00, 38.59it/s]\n"
     ]
    },
    {
     "name": "stdout",
     "output_type": "stream",
     "text": [
      "valid: loss: 4.460, ppl: 111.335\n"
     ]
    },
    {
     "name": "stderr",
     "output_type": "stream",
     "text": [
      "Epoch: 98, Loss: 8320.59327225, lr: 0.000350: 100%|██████████| 1715/1715 [00:44<00:00, 38.60it/s]\n"
     ]
    },
    {
     "name": "stdout",
     "output_type": "stream",
     "text": [
      "valid: loss: 4.456, ppl: 111.471\n"
     ]
    }
   ],
   "source": [
    "train(args)"
   ]
  },
  {
   "cell_type": "code",
   "execution_count": 45,
   "metadata": {},
   "outputs": [
    {
     "data": {
      "text/plain": [
       "{'embedding_dim': 512,\n",
       " 'device': 'cuda:0',\n",
       " 'hidden_size': 512,\n",
       " 'num_layers': 6,\n",
       " 'batch_size': 64,\n",
       " 'lr': 0.00038,\n",
       " 'weight_decay': 0.045,\n",
       " 'num_epoch': 15,\n",
       " 'save_interval': 1,\n",
       " 'save_dir': 'models_lstm_lm',\n",
       " 'seq2seq': False,\n",
       " 'model_type': 'lstm',\n",
       " 'load': './models_lstm_lm_lstm_lm/lstm_98.pt',\n",
       " 'start_epoch': 98}"
      ]
     },
     "execution_count": 45,
     "metadata": {},
     "output_type": "execute_result"
    }
   ],
   "source": [
    "N = 98\n",
    "args.num_epoch = 15\n",
    "args.load = f'./models_lstm_lm_lstm_lm/lstm_{N}.pt'\n",
    "args.lr = 3.8e-4\n",
    "args.weight_decay = 4.5e-2\n",
    "args.start_epoch = N\n",
    "args.save_dir = 'models_lstm_lm'\n",
    "args.__dict__"
   ]
  },
  {
   "cell_type": "code",
   "execution_count": 46,
   "metadata": {},
   "outputs": [
    {
     "name": "stdout",
     "output_type": "stream",
     "text": [
      "model loaded from ./models_lstm_lm_lstm_lm/lstm_98.pt\n"
     ]
    },
    {
     "name": "stderr",
     "output_type": "stream",
     "text": [
      "Epoch: 99, Loss: 8368.75738671, lr: 0.000380: 100%|██████████| 1715/1715 [00:43<00:00, 39.25it/s]\n"
     ]
    },
    {
     "name": "stdout",
     "output_type": "stream",
     "text": [
      "valid: loss: 4.464, ppl: 111.934\n"
     ]
    },
    {
     "name": "stderr",
     "output_type": "stream",
     "text": [
      "Epoch: 100, Loss: 8351.25705602, lr: 0.000380: 100%|██████████| 1715/1715 [00:44<00:00, 38.61it/s]\n"
     ]
    },
    {
     "name": "stdout",
     "output_type": "stream",
     "text": [
      "valid: loss: 4.457, ppl: 111.277\n"
     ]
    },
    {
     "name": "stderr",
     "output_type": "stream",
     "text": [
      "Epoch: 101, Loss: 8342.75033368, lr: 0.000380: 100%|██████████| 1715/1715 [00:44<00:00, 38.47it/s]\n"
     ]
    },
    {
     "name": "stdout",
     "output_type": "stream",
     "text": [
      "valid: loss: 4.450, ppl: 110.183\n"
     ]
    },
    {
     "name": "stderr",
     "output_type": "stream",
     "text": [
      "Epoch: 102, Loss: 8335.23092429, lr: 0.000380: 100%|██████████| 1715/1715 [00:44<00:00, 38.78it/s]\n"
     ]
    },
    {
     "name": "stdout",
     "output_type": "stream",
     "text": [
      "valid: loss: 4.450, ppl: 110.623\n"
     ]
    },
    {
     "name": "stderr",
     "output_type": "stream",
     "text": [
      "Epoch: 103, Loss: 8327.41227223, lr: 0.000380: 100%|██████████| 1715/1715 [00:44<00:00, 38.86it/s]\n"
     ]
    },
    {
     "name": "stdout",
     "output_type": "stream",
     "text": [
      "valid: loss: 4.446, ppl: 109.921\n"
     ]
    },
    {
     "name": "stderr",
     "output_type": "stream",
     "text": [
      "Epoch: 104, Loss: 8320.75492467, lr: 0.000380: 100%|██████████| 1715/1715 [00:43<00:00, 39.09it/s]\n"
     ]
    },
    {
     "name": "stdout",
     "output_type": "stream",
     "text": [
      "valid: loss: 4.443, ppl: 109.858\n"
     ]
    },
    {
     "name": "stderr",
     "output_type": "stream",
     "text": [
      "Epoch: 105, Loss: 8314.24811022, lr: 0.000380: 100%|██████████| 1715/1715 [00:43<00:00, 39.05it/s]\n"
     ]
    },
    {
     "name": "stdout",
     "output_type": "stream",
     "text": [
      "valid: loss: 4.440, ppl: 109.607\n"
     ]
    },
    {
     "name": "stderr",
     "output_type": "stream",
     "text": [
      "Epoch: 106, Loss: 8305.75246319, lr: 0.000380: 100%|██████████| 1715/1715 [00:44<00:00, 38.65it/s]\n"
     ]
    },
    {
     "name": "stdout",
     "output_type": "stream",
     "text": [
      "valid: loss: 4.437, ppl: 109.409\n"
     ]
    },
    {
     "name": "stderr",
     "output_type": "stream",
     "text": [
      "Epoch: 107, Loss: 8299.01883570, lr: 0.000380: 100%|██████████| 1715/1715 [00:44<00:00, 38.56it/s]\n"
     ]
    },
    {
     "name": "stdout",
     "output_type": "stream",
     "text": [
      "valid: loss: 4.433, ppl: 108.535\n"
     ]
    },
    {
     "name": "stderr",
     "output_type": "stream",
     "text": [
      "Epoch: 108, Loss: 8292.74580277, lr: 0.000380: 100%|██████████| 1715/1715 [01:21<00:00, 21.01it/s]\n"
     ]
    },
    {
     "name": "stdout",
     "output_type": "stream",
     "text": [
      "valid: loss: 4.430, ppl: 108.546\n"
     ]
    },
    {
     "name": "stderr",
     "output_type": "stream",
     "text": [
      "Epoch: 109, Loss: 8284.09091413, lr: 0.000380: 100%|██████████| 1715/1715 [03:00<00:00,  9.48it/s]\n"
     ]
    },
    {
     "name": "stdout",
     "output_type": "stream",
     "text": [
      "valid: loss: 4.436, ppl: 109.234\n"
     ]
    },
    {
     "name": "stderr",
     "output_type": "stream",
     "text": [
      "Epoch: 110, Loss: 8277.37486277, lr: 0.000380: 100%|██████████| 1715/1715 [03:05<00:00,  9.25it/s]\n"
     ]
    },
    {
     "name": "stdout",
     "output_type": "stream",
     "text": [
      "valid: loss: 4.430, ppl: 109.096\n"
     ]
    },
    {
     "name": "stderr",
     "output_type": "stream",
     "text": [
      "Epoch: 111, Loss: 8270.34903383, lr: 0.000380: 100%|██████████| 1715/1715 [02:59<00:00,  9.58it/s]\n"
     ]
    },
    {
     "name": "stdout",
     "output_type": "stream",
     "text": [
      "valid: loss: 4.426, ppl: 108.041\n"
     ]
    },
    {
     "name": "stderr",
     "output_type": "stream",
     "text": [
      "Epoch: 112, Loss: 8263.33645553, lr: 0.000380: 100%|██████████| 1715/1715 [03:08<00:00,  9.08it/s]\n"
     ]
    },
    {
     "name": "stdout",
     "output_type": "stream",
     "text": [
      "valid: loss: 4.421, ppl: 107.355\n"
     ]
    },
    {
     "name": "stderr",
     "output_type": "stream",
     "text": [
      "Epoch: 113, Loss: 8256.13257804, lr: 0.000380: 100%|██████████| 1715/1715 [02:20<00:00, 12.22it/s]\n"
     ]
    },
    {
     "name": "stdout",
     "output_type": "stream",
     "text": [
      "valid: loss: 4.417, ppl: 106.864\n"
     ]
    }
   ],
   "source": [
    "train(args)"
   ]
  },
  {
   "cell_type": "code",
   "execution_count": 47,
   "metadata": {},
   "outputs": [
    {
     "data": {
      "text/plain": [
       "{'embedding_dim': 512,\n",
       " 'device': 'cuda:0',\n",
       " 'hidden_size': 512,\n",
       " 'num_layers': 6,\n",
       " 'batch_size': 64,\n",
       " 'lr': 0.00042,\n",
       " 'weight_decay': 0.05,\n",
       " 'num_epoch': 15,\n",
       " 'save_interval': 1,\n",
       " 'save_dir': 'models_lstm_lm',\n",
       " 'seq2seq': False,\n",
       " 'model_type': 'lstm',\n",
       " 'load': './models_lstm_lm_lstm_lm/lstm_113.pt',\n",
       " 'start_epoch': 113}"
      ]
     },
     "execution_count": 47,
     "metadata": {},
     "output_type": "execute_result"
    }
   ],
   "source": [
    "N = 113\n",
    "args.num_epoch = 15\n",
    "args.load = f'./models_lstm_lm_lstm_lm/lstm_{N}.pt'\n",
    "args.lr = 4.2e-4\n",
    "args.weight_decay = 5e-2\n",
    "args.start_epoch = N\n",
    "args.save_dir = 'models_lstm_lm'\n",
    "args.__dict__"
   ]
  },
  {
   "cell_type": "code",
   "execution_count": 48,
   "metadata": {},
   "outputs": [
    {
     "name": "stdout",
     "output_type": "stream",
     "text": [
      "model loaded from ./models_lstm_lm_lstm_lm/lstm_113.pt\n"
     ]
    },
    {
     "name": "stderr",
     "output_type": "stream",
     "text": [
      "Epoch: 114, Loss: 8312.54340920, lr: 0.000420: 100%|██████████| 1715/1715 [03:07<00:00,  9.12it/s]\n"
     ]
    },
    {
     "name": "stdout",
     "output_type": "stream",
     "text": [
      "valid: loss: 4.426, ppl: 107.976\n"
     ]
    },
    {
     "name": "stderr",
     "output_type": "stream",
     "text": [
      "Epoch: 115, Loss: 8291.86325406, lr: 0.000420: 100%|██████████| 1715/1715 [03:11<00:00,  8.95it/s]\n"
     ]
    },
    {
     "name": "stdout",
     "output_type": "stream",
     "text": [
      "valid: loss: 4.425, ppl: 107.741\n"
     ]
    },
    {
     "name": "stderr",
     "output_type": "stream",
     "text": [
      "Epoch: 116, Loss: 8283.63108287, lr: 0.000420: 100%|██████████| 1715/1715 [03:02<00:00,  9.38it/s]\n"
     ]
    },
    {
     "name": "stdout",
     "output_type": "stream",
     "text": [
      "valid: loss: 4.412, ppl: 106.230\n"
     ]
    },
    {
     "name": "stderr",
     "output_type": "stream",
     "text": [
      "Epoch: 117, Loss: 8277.15999083, lr: 0.000420: 100%|██████████| 1715/1715 [03:11<00:00,  8.96it/s]\n"
     ]
    },
    {
     "name": "stdout",
     "output_type": "stream",
     "text": [
      "valid: loss: 4.419, ppl: 107.303\n"
     ]
    },
    {
     "name": "stderr",
     "output_type": "stream",
     "text": [
      "Epoch: 118, Loss: 8271.16284735, lr: 0.000420: 100%|██████████| 1715/1715 [03:05<00:00,  9.24it/s]\n"
     ]
    },
    {
     "name": "stdout",
     "output_type": "stream",
     "text": [
      "valid: loss: 4.415, ppl: 106.249\n"
     ]
    },
    {
     "name": "stderr",
     "output_type": "stream",
     "text": [
      "Epoch: 119, Loss: 8265.16511053, lr: 0.000420: 100%|██████████| 1715/1715 [03:18<00:00,  8.62it/s]\n"
     ]
    },
    {
     "name": "stdout",
     "output_type": "stream",
     "text": [
      "valid: loss: 4.411, ppl: 106.168\n"
     ]
    },
    {
     "name": "stderr",
     "output_type": "stream",
     "text": [
      "Epoch: 120, Loss: 8260.54116054, lr: 0.000420: 100%|██████████| 1715/1715 [02:52<00:00,  9.92it/s]\n"
     ]
    },
    {
     "name": "stdout",
     "output_type": "stream",
     "text": [
      "valid: loss: 4.402, ppl: 104.766\n"
     ]
    },
    {
     "name": "stderr",
     "output_type": "stream",
     "text": [
      "Epoch: 121, Loss: 8252.58644059, lr: 0.000420: 100%|██████████| 1715/1715 [02:51<00:00, 10.00it/s]\n"
     ]
    },
    {
     "name": "stdout",
     "output_type": "stream",
     "text": [
      "valid: loss: 4.406, ppl: 105.918\n"
     ]
    },
    {
     "name": "stderr",
     "output_type": "stream",
     "text": [
      "Epoch: 122, Loss: 8247.92462760, lr: 0.000420: 100%|██████████| 1715/1715 [02:47<00:00, 10.26it/s]\n"
     ]
    },
    {
     "name": "stdout",
     "output_type": "stream",
     "text": [
      "valid: loss: 4.405, ppl: 105.626\n"
     ]
    },
    {
     "name": "stderr",
     "output_type": "stream",
     "text": [
      "Epoch: 123, Loss: 8241.74348508, lr: 0.000420: 100%|██████████| 1715/1715 [02:52<00:00,  9.92it/s]\n"
     ]
    },
    {
     "name": "stdout",
     "output_type": "stream",
     "text": [
      "valid: loss: 4.401, ppl: 105.203\n"
     ]
    },
    {
     "name": "stderr",
     "output_type": "stream",
     "text": [
      "Epoch: 124, Loss: 8236.43462725, lr: 0.000420: 100%|██████████| 1715/1715 [02:47<00:00, 10.21it/s]\n"
     ]
    },
    {
     "name": "stdout",
     "output_type": "stream",
     "text": [
      "valid: loss: 4.398, ppl: 105.180\n"
     ]
    },
    {
     "name": "stderr",
     "output_type": "stream",
     "text": [
      "Epoch: 125, Loss: 8231.03767652, lr: 0.000420: 100%|██████████| 1715/1715 [02:53<00:00,  9.90it/s]\n"
     ]
    },
    {
     "name": "stdout",
     "output_type": "stream",
     "text": [
      "valid: loss: 4.407, ppl: 105.795\n"
     ]
    },
    {
     "name": "stderr",
     "output_type": "stream",
     "text": [
      "Epoch: 126, Loss: 8196.81933120, lr: 0.000420:  42%|████▏     | 721/1715 [01:09<01:28, 11.25it/s]"
     ]
    },
    {
     "ename": "",
     "evalue": "",
     "output_type": "error",
     "traceback": [
      "\u001b[1;31mThe Kernel crashed while executing code in the current cell or a previous cell. \n",
      "\u001b[1;31mPlease review the code in the cell(s) to identify a possible cause of the failure. \n",
      "\u001b[1;31mClick <a href='https://aka.ms/vscodeJupyterKernelCrash'>here</a> for more info. \n",
      "\u001b[1;31mView Jupyter <a href='command:jupyter.viewOutput'>log</a> for further details."
     ]
    }
   ],
   "source": [
    "train(args)"
   ]
  },
  {
   "cell_type": "code",
   "execution_count": 5,
   "metadata": {},
   "outputs": [
    {
     "data": {
      "text/plain": [
       "{'embedding_dim': 512,\n",
       " 'device': 'cuda:0',\n",
       " 'hidden_size': 512,\n",
       " 'num_layers': 6,\n",
       " 'batch_size': 64,\n",
       " 'lr': 0.00047,\n",
       " 'weight_decay': 0.07,\n",
       " 'num_epoch': 20,\n",
       " 'save_interval': 1,\n",
       " 'save_dir': 'models_lstm_lm',\n",
       " 'seq2seq': False,\n",
       " 'model_type': 'lstm',\n",
       " 'load': './models_lstm_lm_lstm_lm/lstm_125.pt',\n",
       " 'start_epoch': 125}"
      ]
     },
     "execution_count": 5,
     "metadata": {},
     "output_type": "execute_result"
    }
   ],
   "source": [
    "N = 125\n",
    "args.num_epoch = 20\n",
    "args.load = f'./models_lstm_lm_lstm_lm/lstm_{N}.pt'\n",
    "args.lr = 4.7e-4\n",
    "args.weight_decay = 7e-2\n",
    "args.start_epoch = N\n",
    "args.save_dir = 'models_lstm_lm'\n",
    "args.__dict__"
   ]
  },
  {
   "cell_type": "code",
   "execution_count": 6,
   "metadata": {},
   "outputs": [
    {
     "name": "stdout",
     "output_type": "stream",
     "text": [
      "model loaded from ./models_lstm_lm_lstm_lm/lstm_125.pt\n"
     ]
    },
    {
     "name": "stderr",
     "output_type": "stream",
     "text": [
      "Epoch: 126, Loss: 8306.87944962, lr: 0.000470: 100%|██████████| 1715/1715 [00:43<00:00, 39.01it/s]\n"
     ]
    },
    {
     "name": "stdout",
     "output_type": "stream",
     "text": [
      "valid: loss: 4.409, ppl: 105.543\n"
     ]
    },
    {
     "name": "stderr",
     "output_type": "stream",
     "text": [
      "Epoch: 127, Loss: 8303.56097451, lr: 0.000470: 100%|██████████| 1715/1715 [00:43<00:00, 39.13it/s]\n"
     ]
    },
    {
     "name": "stdout",
     "output_type": "stream",
     "text": [
      "valid: loss: 4.405, ppl: 105.138\n"
     ]
    },
    {
     "name": "stderr",
     "output_type": "stream",
     "text": [
      "Epoch: 128, Loss: 8306.98864611, lr: 0.000470: 100%|██████████| 1715/1715 [00:43<00:00, 39.86it/s]\n"
     ]
    },
    {
     "name": "stdout",
     "output_type": "stream",
     "text": [
      "valid: loss: 4.415, ppl: 106.195\n"
     ]
    },
    {
     "name": "stderr",
     "output_type": "stream",
     "text": [
      "Epoch: 129, Loss: 8309.34049916, lr: 0.000470: 100%|██████████| 1715/1715 [00:43<00:00, 39.37it/s]\n"
     ]
    },
    {
     "name": "stdout",
     "output_type": "stream",
     "text": [
      "valid: loss: 4.413, ppl: 105.732\n"
     ]
    },
    {
     "name": "stderr",
     "output_type": "stream",
     "text": [
      "Epoch: 130, Loss: 8309.82624248, lr: 0.000470: 100%|██████████| 1715/1715 [00:43<00:00, 39.70it/s]\n"
     ]
    },
    {
     "name": "stdout",
     "output_type": "stream",
     "text": [
      "valid: loss: 4.414, ppl: 106.530\n"
     ]
    },
    {
     "name": "stderr",
     "output_type": "stream",
     "text": [
      "Epoch: 131, Loss: 8308.70044486, lr: 0.000470: 100%|██████████| 1715/1715 [00:41<00:00, 41.27it/s]\n"
     ]
    },
    {
     "name": "stdout",
     "output_type": "stream",
     "text": [
      "valid: loss: 4.409, ppl: 105.316\n"
     ]
    },
    {
     "name": "stderr",
     "output_type": "stream",
     "text": [
      "Epoch: 132, Loss: 8308.40549793, lr: 0.000470: 100%|██████████| 1715/1715 [00:43<00:00, 39.24it/s]\n"
     ]
    },
    {
     "name": "stdout",
     "output_type": "stream",
     "text": [
      "valid: loss: 4.406, ppl: 105.248\n"
     ]
    },
    {
     "name": "stderr",
     "output_type": "stream",
     "text": [
      "Epoch: 133, Loss: 8305.45590635, lr: 0.000470: 100%|██████████| 1715/1715 [00:43<00:00, 39.52it/s]\n"
     ]
    },
    {
     "name": "stdout",
     "output_type": "stream",
     "text": [
      "valid: loss: 4.403, ppl: 104.804\n"
     ]
    },
    {
     "name": "stderr",
     "output_type": "stream",
     "text": [
      "Epoch: 134, Loss: 8303.71139774, lr: 0.000470: 100%|██████████| 1715/1715 [00:42<00:00, 40.12it/s]\n"
     ]
    },
    {
     "name": "stdout",
     "output_type": "stream",
     "text": [
      "valid: loss: 4.399, ppl: 104.159\n"
     ]
    },
    {
     "name": "stderr",
     "output_type": "stream",
     "text": [
      "Epoch: 135, Loss: 8300.76319655, lr: 0.000470: 100%|██████████| 1715/1715 [00:42<00:00, 40.07it/s]\n"
     ]
    },
    {
     "name": "stdout",
     "output_type": "stream",
     "text": [
      "valid: loss: 4.403, ppl: 104.884\n"
     ]
    },
    {
     "name": "stderr",
     "output_type": "stream",
     "text": [
      "Epoch: 136, Loss: 8298.46291041, lr: 0.000470: 100%|██████████| 1715/1715 [00:43<00:00, 39.42it/s]\n"
     ]
    },
    {
     "name": "stdout",
     "output_type": "stream",
     "text": [
      "valid: loss: 4.404, ppl: 104.935\n"
     ]
    },
    {
     "name": "stderr",
     "output_type": "stream",
     "text": [
      "Epoch: 137, Loss: 8295.54627554, lr: 0.000470: 100%|██████████| 1715/1715 [00:45<00:00, 37.99it/s]\n"
     ]
    },
    {
     "name": "stdout",
     "output_type": "stream",
     "text": [
      "valid: loss: 4.401, ppl: 104.702\n"
     ]
    },
    {
     "name": "stderr",
     "output_type": "stream",
     "text": [
      "Epoch: 138, Loss: 8291.88880213, lr: 0.000470: 100%|██████████| 1715/1715 [00:47<00:00, 36.47it/s]\n"
     ]
    },
    {
     "name": "stdout",
     "output_type": "stream",
     "text": [
      "valid: loss: 4.400, ppl: 103.828\n"
     ]
    },
    {
     "name": "stderr",
     "output_type": "stream",
     "text": [
      "Epoch: 139, Loss: 8288.63907076, lr: 0.000470: 100%|██████████| 1715/1715 [00:44<00:00, 38.21it/s]\n"
     ]
    },
    {
     "name": "stdout",
     "output_type": "stream",
     "text": [
      "valid: loss: 4.395, ppl: 104.118\n"
     ]
    },
    {
     "name": "stderr",
     "output_type": "stream",
     "text": [
      "Epoch: 140, Loss: 8285.68467167, lr: 0.000470: 100%|██████████| 1715/1715 [00:46<00:00, 36.68it/s]\n"
     ]
    },
    {
     "name": "stdout",
     "output_type": "stream",
     "text": [
      "valid: loss: 4.392, ppl: 103.767\n"
     ]
    },
    {
     "name": "stderr",
     "output_type": "stream",
     "text": [
      "Epoch: 141, Loss: 8281.89749240, lr: 0.000470: 100%|██████████| 1715/1715 [00:47<00:00, 36.46it/s]\n"
     ]
    },
    {
     "name": "stdout",
     "output_type": "stream",
     "text": [
      "valid: loss: 4.402, ppl: 105.102\n"
     ]
    },
    {
     "name": "stderr",
     "output_type": "stream",
     "text": [
      "Epoch: 142, Loss: 8278.62570808, lr: 0.000470: 100%|██████████| 1715/1715 [00:46<00:00, 37.22it/s]\n"
     ]
    },
    {
     "name": "stdout",
     "output_type": "stream",
     "text": [
      "valid: loss: 4.390, ppl: 103.721\n"
     ]
    },
    {
     "name": "stderr",
     "output_type": "stream",
     "text": [
      "Epoch: 143, Loss: 8274.65630865, lr: 0.000470: 100%|██████████| 1715/1715 [00:46<00:00, 36.75it/s]\n"
     ]
    },
    {
     "name": "stdout",
     "output_type": "stream",
     "text": [
      "valid: loss: 4.393, ppl: 104.161\n"
     ]
    },
    {
     "name": "stderr",
     "output_type": "stream",
     "text": [
      "Epoch: 144, Loss: 8271.89664438, lr: 0.000470: 100%|██████████| 1715/1715 [00:46<00:00, 36.79it/s]\n"
     ]
    },
    {
     "name": "stdout",
     "output_type": "stream",
     "text": [
      "valid: loss: 4.389, ppl: 103.643\n"
     ]
    },
    {
     "name": "stderr",
     "output_type": "stream",
     "text": [
      "Epoch: 145, Loss: 8267.18921425, lr: 0.000470: 100%|██████████| 1715/1715 [00:45<00:00, 37.69it/s]\n"
     ]
    },
    {
     "name": "stdout",
     "output_type": "stream",
     "text": [
      "valid: loss: 4.387, ppl: 103.008\n"
     ]
    }
   ],
   "source": [
    "train(args)"
   ]
  },
  {
   "cell_type": "code",
   "execution_count": 7,
   "metadata": {},
   "outputs": [
    {
     "data": {
      "text/plain": [
       "{'embedding_dim': 512,\n",
       " 'device': 'cuda:0',\n",
       " 'hidden_size': 512,\n",
       " 'num_layers': 6,\n",
       " 'batch_size': 64,\n",
       " 'lr': 0.000514,\n",
       " 'weight_decay': 0.09,\n",
       " 'num_epoch': 20,\n",
       " 'save_interval': 1,\n",
       " 'save_dir': 'models_lstm_lm',\n",
       " 'seq2seq': False,\n",
       " 'model_type': 'lstm',\n",
       " 'load': './models_lstm_lm_lstm_lm/lstm_145.pt',\n",
       " 'start_epoch': 145}"
      ]
     },
     "execution_count": 7,
     "metadata": {},
     "output_type": "execute_result"
    }
   ],
   "source": [
    "N = 145\n",
    "args.num_epoch = 20\n",
    "args.load = f'./models_lstm_lm_lstm_lm/lstm_{N}.pt'\n",
    "args.lr = 5.14e-4\n",
    "args.weight_decay = 9e-2\n",
    "args.start_epoch = N\n",
    "args.save_dir = 'models_lstm_lm'\n",
    "args.__dict__"
   ]
  },
  {
   "cell_type": "code",
   "execution_count": 8,
   "metadata": {},
   "outputs": [
    {
     "name": "stdout",
     "output_type": "stream",
     "text": [
      "model loaded from ./models_lstm_lm_lstm_lm/lstm_145.pt\n"
     ]
    },
    {
     "name": "stderr",
     "output_type": "stream",
     "text": [
      "Epoch: 146, Loss: 8341.55145474, lr: 0.000514: 100%|██████████| 1715/1715 [00:45<00:00, 37.30it/s]\n"
     ]
    },
    {
     "name": "stdout",
     "output_type": "stream",
     "text": [
      "valid: loss: 4.405, ppl: 104.961\n"
     ]
    },
    {
     "name": "stderr",
     "output_type": "stream",
     "text": [
      "Epoch: 147, Loss: 8335.56767123, lr: 0.000514: 100%|██████████| 1715/1715 [00:46<00:00, 36.99it/s]\n"
     ]
    },
    {
     "name": "stdout",
     "output_type": "stream",
     "text": [
      "valid: loss: 4.403, ppl: 104.507\n"
     ]
    },
    {
     "name": "stderr",
     "output_type": "stream",
     "text": [
      "Epoch: 148, Loss: 8337.47894170, lr: 0.000514: 100%|██████████| 1715/1715 [00:45<00:00, 37.87it/s]\n"
     ]
    },
    {
     "name": "stdout",
     "output_type": "stream",
     "text": [
      "valid: loss: 4.411, ppl: 106.260\n"
     ]
    },
    {
     "name": "stderr",
     "output_type": "stream",
     "text": [
      "Epoch: 149, Loss: 8338.89313203, lr: 0.000514: 100%|██████████| 1715/1715 [00:44<00:00, 38.96it/s]\n"
     ]
    },
    {
     "name": "stdout",
     "output_type": "stream",
     "text": [
      "valid: loss: 4.409, ppl: 105.777\n"
     ]
    },
    {
     "name": "stderr",
     "output_type": "stream",
     "text": [
      "Epoch: 150, Loss: 8338.87950571, lr: 0.000514: 100%|██████████| 1715/1715 [00:44<00:00, 38.71it/s]\n"
     ]
    },
    {
     "name": "stdout",
     "output_type": "stream",
     "text": [
      "valid: loss: 4.407, ppl: 105.656\n"
     ]
    },
    {
     "name": "stderr",
     "output_type": "stream",
     "text": [
      "Epoch: 151, Loss: 8339.56561019, lr: 0.000514: 100%|██████████| 1715/1715 [00:44<00:00, 38.12it/s]\n"
     ]
    },
    {
     "name": "stdout",
     "output_type": "stream",
     "text": [
      "valid: loss: 4.404, ppl: 105.033\n"
     ]
    },
    {
     "name": "stderr",
     "output_type": "stream",
     "text": [
      "Epoch: 152, Loss: 8339.19328108, lr: 0.000514: 100%|██████████| 1715/1715 [00:46<00:00, 36.68it/s]\n"
     ]
    },
    {
     "name": "stdout",
     "output_type": "stream",
     "text": [
      "valid: loss: 4.405, ppl: 104.981\n"
     ]
    },
    {
     "name": "stderr",
     "output_type": "stream",
     "text": [
      "Epoch: 153, Loss: 8337.67873884, lr: 0.000514: 100%|██████████| 1715/1715 [00:45<00:00, 37.36it/s]\n"
     ]
    },
    {
     "name": "stdout",
     "output_type": "stream",
     "text": [
      "valid: loss: 4.400, ppl: 104.172\n"
     ]
    },
    {
     "name": "stderr",
     "output_type": "stream",
     "text": [
      "Epoch: 154, Loss: 8336.16706052, lr: 0.000514: 100%|██████████| 1715/1715 [00:45<00:00, 37.45it/s]\n"
     ]
    },
    {
     "name": "stdout",
     "output_type": "stream",
     "text": [
      "valid: loss: 4.400, ppl: 104.160\n"
     ]
    },
    {
     "name": "stderr",
     "output_type": "stream",
     "text": [
      "Epoch: 155, Loss: 8335.75705830, lr: 0.000514: 100%|██████████| 1715/1715 [00:46<00:00, 37.01it/s]\n"
     ]
    },
    {
     "name": "stdout",
     "output_type": "stream",
     "text": [
      "valid: loss: 4.397, ppl: 103.847\n"
     ]
    },
    {
     "name": "stderr",
     "output_type": "stream",
     "text": [
      "Epoch: 156, Loss: 8333.34078245, lr: 0.000514: 100%|██████████| 1715/1715 [00:47<00:00, 36.13it/s]\n"
     ]
    },
    {
     "name": "stdout",
     "output_type": "stream",
     "text": [
      "valid: loss: 4.404, ppl: 105.024\n"
     ]
    },
    {
     "name": "stderr",
     "output_type": "stream",
     "text": [
      "Epoch: 157, Loss: 8331.33479324, lr: 0.000514: 100%|██████████| 1715/1715 [00:46<00:00, 36.98it/s]\n"
     ]
    },
    {
     "name": "stdout",
     "output_type": "stream",
     "text": [
      "valid: loss: 4.398, ppl: 104.551\n"
     ]
    },
    {
     "name": "stderr",
     "output_type": "stream",
     "text": [
      "Epoch: 158, Loss: 8330.10123779, lr: 0.000514: 100%|██████████| 1715/1715 [00:46<00:00, 36.76it/s]\n"
     ]
    },
    {
     "name": "stdout",
     "output_type": "stream",
     "text": [
      "valid: loss: 4.401, ppl: 105.139\n"
     ]
    },
    {
     "name": "stderr",
     "output_type": "stream",
     "text": [
      "Epoch: 159, Loss: 8327.32197920, lr: 0.000514: 100%|██████████| 1715/1715 [00:45<00:00, 37.50it/s]\n"
     ]
    },
    {
     "name": "stdout",
     "output_type": "stream",
     "text": [
      "valid: loss: 4.401, ppl: 104.418\n"
     ]
    },
    {
     "name": "stderr",
     "output_type": "stream",
     "text": [
      "Epoch: 160, Loss: 8326.01761770, lr: 0.000514: 100%|██████████| 1715/1715 [00:47<00:00, 36.30it/s]\n"
     ]
    },
    {
     "name": "stdout",
     "output_type": "stream",
     "text": [
      "valid: loss: 4.396, ppl: 103.796\n"
     ]
    },
    {
     "name": "stderr",
     "output_type": "stream",
     "text": [
      "Epoch: 161, Loss: 8323.61056438, lr: 0.000514: 100%|██████████| 1715/1715 [00:46<00:00, 37.24it/s]\n"
     ]
    },
    {
     "name": "stdout",
     "output_type": "stream",
     "text": [
      "valid: loss: 4.406, ppl: 105.814\n"
     ]
    },
    {
     "name": "stderr",
     "output_type": "stream",
     "text": [
      "Epoch: 162, Loss: 8320.91588437, lr: 0.000514: 100%|██████████| 1715/1715 [00:45<00:00, 37.90it/s]\n"
     ]
    },
    {
     "name": "stdout",
     "output_type": "stream",
     "text": [
      "valid: loss: 4.396, ppl: 104.458\n"
     ]
    },
    {
     "name": "stderr",
     "output_type": "stream",
     "text": [
      "Epoch: 163, Loss: 8319.38281036, lr: 0.000514: 100%|██████████| 1715/1715 [00:47<00:00, 36.38it/s]\n"
     ]
    },
    {
     "name": "stdout",
     "output_type": "stream",
     "text": [
      "valid: loss: 4.390, ppl: 103.207\n"
     ]
    },
    {
     "name": "stderr",
     "output_type": "stream",
     "text": [
      "Epoch: 164, Loss: 8316.16607855, lr: 0.000514: 100%|██████████| 1715/1715 [00:46<00:00, 37.25it/s]\n"
     ]
    },
    {
     "name": "stdout",
     "output_type": "stream",
     "text": [
      "valid: loss: 4.390, ppl: 102.929\n"
     ]
    },
    {
     "name": "stderr",
     "output_type": "stream",
     "text": [
      "Epoch: 165, Loss: 8315.03143364, lr: 0.000514: 100%|██████████| 1715/1715 [00:46<00:00, 37.25it/s]\n"
     ]
    },
    {
     "name": "stdout",
     "output_type": "stream",
     "text": [
      "valid: loss: 4.394, ppl: 103.721\n"
     ]
    }
   ],
   "source": [
    "train(args)"
   ]
  },
  {
   "cell_type": "code",
   "execution_count": 3,
   "metadata": {},
   "outputs": [
    {
     "data": {
      "text/plain": [
       "{'embedding_dim': 512,\n",
       " 'device': 'cuda:0',\n",
       " 'hidden_size': 512,\n",
       " 'num_layers': 6,\n",
       " 'batch_size': 64,\n",
       " 'lr': 0.00052,\n",
       " 'weight_decay': 0.12,\n",
       " 'num_epoch': 20,\n",
       " 'save_interval': 1,\n",
       " 'save_dir': 'models_lstm_lm',\n",
       " 'seq2seq': False,\n",
       " 'model_type': 'lstm',\n",
       " 'load': './models_lstm_lm_lstm_lm/lstm_165.pt',\n",
       " 'start_epoch': 165}"
      ]
     },
     "execution_count": 3,
     "metadata": {},
     "output_type": "execute_result"
    }
   ],
   "source": [
    "N = 165\n",
    "args.num_epoch = 20\n",
    "args.load = f'./models_lstm_lm_lstm_lm/lstm_{N}.pt'\n",
    "args.lr = 5.2e-4\n",
    "args.weight_decay = 1.2e-1\n",
    "args.start_epoch = N\n",
    "args.save_dir = 'models_lstm_lm'\n",
    "args.__dict__"
   ]
  },
  {
   "cell_type": "code",
   "execution_count": 4,
   "metadata": {},
   "outputs": [
    {
     "name": "stdout",
     "output_type": "stream",
     "text": [
      "model loaded from ./models_lstm_lm_lstm_lm/lstm_165.pt\n"
     ]
    },
    {
     "name": "stderr",
     "output_type": "stream",
     "text": [
      "Epoch: 166, Loss: 8377.04504544, lr: 0.000520: 100%|██████████| 1715/1715 [00:43<00:00, 39.25it/s]\n"
     ]
    },
    {
     "name": "stdout",
     "output_type": "stream",
     "text": [
      "valid: loss: 4.408, ppl: 104.891\n"
     ]
    },
    {
     "name": "stderr",
     "output_type": "stream",
     "text": [
      "Epoch: 167, Loss: 8373.80555488, lr: 0.000520: 100%|██████████| 1715/1715 [00:42<00:00, 40.63it/s]\n"
     ]
    },
    {
     "name": "stdout",
     "output_type": "stream",
     "text": [
      "valid: loss: 4.405, ppl: 104.280\n"
     ]
    },
    {
     "name": "stderr",
     "output_type": "stream",
     "text": [
      "Epoch: 168, Loss: 8378.58903033, lr: 0.000520: 100%|██████████| 1715/1715 [00:43<00:00, 39.85it/s]\n"
     ]
    },
    {
     "name": "stdout",
     "output_type": "stream",
     "text": [
      "valid: loss: 4.401, ppl: 104.520\n"
     ]
    },
    {
     "name": "stderr",
     "output_type": "stream",
     "text": [
      "Epoch: 169, Loss: 8380.99788630, lr: 0.000520: 100%|██████████| 1715/1715 [00:42<00:00, 40.74it/s]\n"
     ]
    },
    {
     "name": "stdout",
     "output_type": "stream",
     "text": [
      "valid: loss: 4.407, ppl: 104.588\n"
     ]
    },
    {
     "name": "stderr",
     "output_type": "stream",
     "text": [
      "Epoch: 170, Loss: 8382.08413385, lr: 0.000520: 100%|██████████| 1715/1715 [00:42<00:00, 39.92it/s]\n"
     ]
    },
    {
     "name": "stdout",
     "output_type": "stream",
     "text": [
      "valid: loss: 4.414, ppl: 105.899\n"
     ]
    },
    {
     "name": "stderr",
     "output_type": "stream",
     "text": [
      "Epoch: 171, Loss: 8383.65227983, lr: 0.000520: 100%|██████████| 1715/1715 [00:43<00:00, 39.62it/s]\n"
     ]
    },
    {
     "name": "stdout",
     "output_type": "stream",
     "text": [
      "valid: loss: 4.406, ppl: 104.221\n"
     ]
    },
    {
     "name": "stderr",
     "output_type": "stream",
     "text": [
      "Epoch: 172, Loss: 8384.16834884, lr: 0.000520: 100%|██████████| 1715/1715 [00:43<00:00, 39.38it/s]\n"
     ]
    },
    {
     "name": "stdout",
     "output_type": "stream",
     "text": [
      "valid: loss: 4.408, ppl: 105.632\n"
     ]
    },
    {
     "name": "stderr",
     "output_type": "stream",
     "text": [
      "Epoch: 173, Loss: 8383.93064043, lr: 0.000520: 100%|██████████| 1715/1715 [00:43<00:00, 39.77it/s]\n"
     ]
    },
    {
     "name": "stdout",
     "output_type": "stream",
     "text": [
      "valid: loss: 4.406, ppl: 104.681\n"
     ]
    },
    {
     "name": "stderr",
     "output_type": "stream",
     "text": [
      "Epoch: 174, Loss: 8383.75368361, lr: 0.000520: 100%|██████████| 1715/1715 [00:42<00:00, 39.93it/s]\n"
     ]
    },
    {
     "name": "stdout",
     "output_type": "stream",
     "text": [
      "valid: loss: 4.404, ppl: 104.112\n"
     ]
    },
    {
     "name": "stderr",
     "output_type": "stream",
     "text": [
      "Epoch: 175, Loss: 8383.27563263, lr: 0.000520: 100%|██████████| 1715/1715 [00:42<00:00, 39.91it/s]\n"
     ]
    },
    {
     "name": "stdout",
     "output_type": "stream",
     "text": [
      "valid: loss: 4.413, ppl: 105.737\n"
     ]
    },
    {
     "name": "stderr",
     "output_type": "stream",
     "text": [
      "Epoch: 176, Loss: 8383.11399303, lr: 0.000520: 100%|██████████| 1715/1715 [00:43<00:00, 39.61it/s]\n"
     ]
    },
    {
     "name": "stdout",
     "output_type": "stream",
     "text": [
      "valid: loss: 4.406, ppl: 104.242\n"
     ]
    },
    {
     "name": "stderr",
     "output_type": "stream",
     "text": [
      "Epoch: 177, Loss: 8382.19020989, lr: 0.000520: 100%|██████████| 1715/1715 [00:43<00:00, 39.64it/s]\n"
     ]
    },
    {
     "name": "stdout",
     "output_type": "stream",
     "text": [
      "valid: loss: 4.396, ppl: 103.480\n"
     ]
    },
    {
     "name": "stderr",
     "output_type": "stream",
     "text": [
      "Epoch: 178, Loss: 8380.55720151, lr: 0.000520: 100%|██████████| 1715/1715 [00:43<00:00, 39.52it/s]\n"
     ]
    },
    {
     "name": "stdout",
     "output_type": "stream",
     "text": [
      "valid: loss: 4.417, ppl: 106.763\n"
     ]
    },
    {
     "name": "stderr",
     "output_type": "stream",
     "text": [
      "Epoch: 179, Loss: 8379.30946255, lr: 0.000520: 100%|██████████| 1715/1715 [00:43<00:00, 39.57it/s]\n"
     ]
    },
    {
     "name": "stdout",
     "output_type": "stream",
     "text": [
      "valid: loss: 4.402, ppl: 104.250\n"
     ]
    },
    {
     "name": "stderr",
     "output_type": "stream",
     "text": [
      "Epoch: 180, Loss: 8378.70556783, lr: 0.000520: 100%|██████████| 1715/1715 [00:43<00:00, 39.55it/s]\n"
     ]
    },
    {
     "name": "stdout",
     "output_type": "stream",
     "text": [
      "valid: loss: 4.402, ppl: 104.209\n"
     ]
    },
    {
     "name": "stderr",
     "output_type": "stream",
     "text": [
      "Epoch: 181, Loss: 8378.96005148, lr: 0.000520: 100%|██████████| 1715/1715 [00:43<00:00, 39.36it/s]\n"
     ]
    },
    {
     "name": "stdout",
     "output_type": "stream",
     "text": [
      "valid: loss: 4.402, ppl: 103.957\n"
     ]
    },
    {
     "name": "stderr",
     "output_type": "stream",
     "text": [
      "Epoch: 182, Loss: 8375.80590920, lr: 0.000520: 100%|██████████| 1715/1715 [00:42<00:00, 40.66it/s]\n"
     ]
    },
    {
     "name": "stdout",
     "output_type": "stream",
     "text": [
      "valid: loss: 4.405, ppl: 103.577\n"
     ]
    },
    {
     "name": "stderr",
     "output_type": "stream",
     "text": [
      "Epoch: 183, Loss: 8374.40255472, lr: 0.000520: 100%|██████████| 1715/1715 [00:42<00:00, 40.37it/s]\n"
     ]
    },
    {
     "name": "stdout",
     "output_type": "stream",
     "text": [
      "valid: loss: 4.408, ppl: 105.762\n"
     ]
    },
    {
     "name": "stderr",
     "output_type": "stream",
     "text": [
      "Epoch: 184, Loss: 8373.14565031, lr: 0.000520: 100%|██████████| 1715/1715 [00:43<00:00, 39.85it/s]\n"
     ]
    },
    {
     "name": "stdout",
     "output_type": "stream",
     "text": [
      "valid: loss: 4.402, ppl: 103.834\n"
     ]
    },
    {
     "name": "stderr",
     "output_type": "stream",
     "text": [
      "Epoch: 185, Loss: 8371.56084127, lr: 0.000520: 100%|██████████| 1715/1715 [00:42<00:00, 40.21it/s]\n"
     ]
    },
    {
     "name": "stdout",
     "output_type": "stream",
     "text": [
      "valid: loss: 4.400, ppl: 103.717\n"
     ]
    }
   ],
   "source": [
    "train(args)"
   ]
  },
  {
   "cell_type": "code",
   "execution_count": 13,
   "metadata": {},
   "outputs": [
    {
     "data": {
      "text/plain": [
       "{'embedding_dim': 512,\n",
       " 'device': 'cuda:0',\n",
       " 'hidden_size': 512,\n",
       " 'num_layers': 6,\n",
       " 'batch_size': 64,\n",
       " 'lr': 0.0001,\n",
       " 'weight_decay': 0.15,\n",
       " 'num_epoch': 10,\n",
       " 'save_interval': 1,\n",
       " 'save_dir': 'models_lstm_lm',\n",
       " 'seq2seq': False,\n",
       " 'model_type': 'lstm',\n",
       " 'load': './models_lstm_lm_lstm_lm/lstm_185.pt',\n",
       " 'start_epoch': 185}"
      ]
     },
     "execution_count": 13,
     "metadata": {},
     "output_type": "execute_result"
    }
   ],
   "source": [
    "N = 185\n",
    "args.num_epoch = 10\n",
    "args.load = f'./models_lstm_lm_lstm_lm/lstm_{N}.pt'\n",
    "args.lr = 1e-4\n",
    "args.weight_decay = 1.5e-1\n",
    "args.start_epoch = N\n",
    "args.save_dir = 'models_lstm_lm'\n",
    "args.__dict__"
   ]
  },
  {
   "cell_type": "code",
   "execution_count": 14,
   "metadata": {},
   "outputs": [
    {
     "name": "stdout",
     "output_type": "stream",
     "text": [
      "model loaded from ./models_lstm_lm_lstm_lm/lstm_185.pt\n"
     ]
    },
    {
     "name": "stderr",
     "output_type": "stream",
     "text": [
      "Epoch: 186, Loss: 8206.95977986, lr: 0.000100: 100%|██████████| 1715/1715 [00:42<00:00, 40.24it/s]\n"
     ]
    },
    {
     "name": "stdout",
     "output_type": "stream",
     "text": [
      "valid: loss: 4.349, ppl: 99.314\n"
     ]
    },
    {
     "name": "stderr",
     "output_type": "stream",
     "text": [
      "Epoch: 187, Loss: 8176.66800719, lr: 0.000100: 100%|██████████| 1715/1715 [00:43<00:00, 39.53it/s]\n"
     ]
    },
    {
     "name": "stdout",
     "output_type": "stream",
     "text": [
      "valid: loss: 4.345, ppl: 98.818\n"
     ]
    },
    {
     "name": "stderr",
     "output_type": "stream",
     "text": [
      "Epoch: 188, Loss: 8167.99300178, lr: 0.000100: 100%|██████████| 1715/1715 [00:43<00:00, 39.83it/s]\n"
     ]
    },
    {
     "name": "stdout",
     "output_type": "stream",
     "text": [
      "valid: loss: 4.346, ppl: 99.069\n"
     ]
    },
    {
     "name": "stderr",
     "output_type": "stream",
     "text": [
      "Epoch: 189, Loss: 8162.41643259, lr: 0.000100: 100%|██████████| 1715/1715 [00:42<00:00, 40.29it/s]\n"
     ]
    },
    {
     "name": "stdout",
     "output_type": "stream",
     "text": [
      "valid: loss: 4.344, ppl: 98.689\n"
     ]
    },
    {
     "name": "stderr",
     "output_type": "stream",
     "text": [
      "Epoch: 190, Loss: 8158.21565290, lr: 0.000100: 100%|██████████| 1715/1715 [00:43<00:00, 39.59it/s]\n"
     ]
    },
    {
     "name": "stdout",
     "output_type": "stream",
     "text": [
      "valid: loss: 4.344, ppl: 98.999\n"
     ]
    },
    {
     "name": "stderr",
     "output_type": "stream",
     "text": [
      "Epoch: 191, Loss: 8155.08440760, lr: 0.000100: 100%|██████████| 1715/1715 [00:43<00:00, 39.56it/s]\n"
     ]
    },
    {
     "name": "stdout",
     "output_type": "stream",
     "text": [
      "valid: loss: 4.341, ppl: 98.481\n"
     ]
    },
    {
     "name": "stderr",
     "output_type": "stream",
     "text": [
      "Epoch: 192, Loss: 8151.80801849, lr: 0.000100: 100%|██████████| 1715/1715 [00:42<00:00, 40.35it/s]\n"
     ]
    },
    {
     "name": "stdout",
     "output_type": "stream",
     "text": [
      "valid: loss: 4.340, ppl: 98.202\n"
     ]
    },
    {
     "name": "stderr",
     "output_type": "stream",
     "text": [
      "Epoch: 193, Loss: 8148.43189601, lr: 0.000100: 100%|██████████| 1715/1715 [00:43<00:00, 39.55it/s]\n"
     ]
    },
    {
     "name": "stdout",
     "output_type": "stream",
     "text": [
      "valid: loss: 4.343, ppl: 98.858\n"
     ]
    },
    {
     "name": "stderr",
     "output_type": "stream",
     "text": [
      "Epoch: 194, Loss: 8146.36136628, lr: 0.000100: 100%|██████████| 1715/1715 [00:42<00:00, 40.01it/s]\n"
     ]
    },
    {
     "name": "stdout",
     "output_type": "stream",
     "text": [
      "valid: loss: 4.342, ppl: 98.634\n"
     ]
    },
    {
     "name": "stderr",
     "output_type": "stream",
     "text": [
      "Epoch: 195, Loss: 8142.47761494, lr: 0.000100: 100%|██████████| 1715/1715 [00:42<00:00, 40.25it/s]\n"
     ]
    },
    {
     "name": "stdout",
     "output_type": "stream",
     "text": [
      "valid: loss: 4.343, ppl: 98.975\n"
     ]
    }
   ],
   "source": [
    "train(args)"
   ]
  },
  {
   "cell_type": "code",
   "execution_count": 15,
   "metadata": {},
   "outputs": [
    {
     "data": {
      "text/plain": [
       "{'embedding_dim': 512,\n",
       " 'device': 'cuda:0',\n",
       " 'hidden_size': 512,\n",
       " 'num_layers': 6,\n",
       " 'batch_size': 64,\n",
       " 'lr': 0.0001,\n",
       " 'weight_decay': 0.17,\n",
       " 'num_epoch': 10,\n",
       " 'save_interval': 1,\n",
       " 'save_dir': 'models_lstm_lm',\n",
       " 'seq2seq': False,\n",
       " 'model_type': 'lstm',\n",
       " 'load': './models_lstm_lm_lstm_lm/lstm_192.pt',\n",
       " 'start_epoch': 192}"
      ]
     },
     "execution_count": 15,
     "metadata": {},
     "output_type": "execute_result"
    }
   ],
   "source": [
    "N = 192\n",
    "args.num_epoch = 10\n",
    "args.load = f'./models_lstm_lm_lstm_lm/lstm_{N}.pt'\n",
    "args.lr = 1e-4\n",
    "args.weight_decay = 1.7e-1\n",
    "args.start_epoch = N\n",
    "args.save_dir = 'models_lstm_lm'\n",
    "args.__dict__"
   ]
  },
  {
   "cell_type": "code",
   "execution_count": 16,
   "metadata": {},
   "outputs": [
    {
     "name": "stdout",
     "output_type": "stream",
     "text": [
      "model loaded from ./models_lstm_lm_lstm_lm/lstm_192.pt\n"
     ]
    },
    {
     "name": "stderr",
     "output_type": "stream",
     "text": [
      "Epoch: 193, Loss: 8171.72860545, lr: 0.000100: 100%|██████████| 1715/1715 [00:42<00:00, 40.51it/s]\n"
     ]
    },
    {
     "name": "stdout",
     "output_type": "stream",
     "text": [
      "valid: loss: 4.342, ppl: 98.603\n"
     ]
    },
    {
     "name": "stderr",
     "output_type": "stream",
     "text": [
      "Epoch: 194, Loss: 8166.53934550, lr: 0.000100: 100%|██████████| 1715/1715 [00:43<00:00, 39.81it/s]\n"
     ]
    },
    {
     "name": "stdout",
     "output_type": "stream",
     "text": [
      "valid: loss: 4.346, ppl: 98.687\n"
     ]
    },
    {
     "name": "stderr",
     "output_type": "stream",
     "text": [
      "Epoch: 195, Loss: 8165.23374806, lr: 0.000100: 100%|██████████| 1715/1715 [00:41<00:00, 41.15it/s]\n"
     ]
    },
    {
     "name": "stdout",
     "output_type": "stream",
     "text": [
      "valid: loss: 4.345, ppl: 99.091\n"
     ]
    },
    {
     "name": "stderr",
     "output_type": "stream",
     "text": [
      "Epoch: 196, Loss: 8164.28541591, lr: 0.000100: 100%|██████████| 1715/1715 [00:43<00:00, 39.47it/s]\n"
     ]
    },
    {
     "name": "stdout",
     "output_type": "stream",
     "text": [
      "valid: loss: 4.347, ppl: 99.182\n"
     ]
    },
    {
     "name": "stderr",
     "output_type": "stream",
     "text": [
      "Epoch: 197, Loss: 8162.78316085, lr: 0.000100: 100%|██████████| 1715/1715 [00:42<00:00, 40.55it/s]\n"
     ]
    },
    {
     "name": "stdout",
     "output_type": "stream",
     "text": [
      "valid: loss: 4.345, ppl: 98.797\n"
     ]
    },
    {
     "name": "stderr",
     "output_type": "stream",
     "text": [
      "Epoch: 198, Loss: 8161.62503815, lr: 0.000100: 100%|██████████| 1715/1715 [00:42<00:00, 40.83it/s]\n"
     ]
    },
    {
     "name": "stdout",
     "output_type": "stream",
     "text": [
      "valid: loss: 4.344, ppl: 98.533\n"
     ]
    },
    {
     "name": "stderr",
     "output_type": "stream",
     "text": [
      "Epoch: 199, Loss: 8160.53433030, lr: 0.000100: 100%|██████████| 1715/1715 [00:43<00:00, 39.61it/s]\n"
     ]
    },
    {
     "name": "stdout",
     "output_type": "stream",
     "text": [
      "valid: loss: 4.347, ppl: 98.722\n"
     ]
    },
    {
     "name": "stderr",
     "output_type": "stream",
     "text": [
      "Epoch: 200, Loss: 8159.13859144, lr: 0.000100: 100%|██████████| 1715/1715 [00:42<00:00, 40.07it/s]\n"
     ]
    },
    {
     "name": "stdout",
     "output_type": "stream",
     "text": [
      "valid: loss: 4.348, ppl: 99.071\n"
     ]
    },
    {
     "name": "stderr",
     "output_type": "stream",
     "text": [
      "Epoch: 201, Loss: 8157.67506036, lr: 0.000100: 100%|██████████| 1715/1715 [00:42<00:00, 40.02it/s]\n"
     ]
    },
    {
     "name": "stdout",
     "output_type": "stream",
     "text": [
      "valid: loss: 4.348, ppl: 99.269\n"
     ]
    },
    {
     "name": "stderr",
     "output_type": "stream",
     "text": [
      "Epoch: 202, Loss: 8156.76971560, lr: 0.000100: 100%|██████████| 1715/1715 [00:42<00:00, 40.38it/s]\n"
     ]
    },
    {
     "name": "stdout",
     "output_type": "stream",
     "text": [
      "valid: loss: 4.351, ppl: 99.832\n"
     ]
    }
   ],
   "source": [
    "train(args)"
   ]
  },
  {
   "cell_type": "markdown",
   "metadata": {},
   "source": [
    "# Target: 100"
   ]
  }
 ],
 "metadata": {
  "kernelspec": {
   "display_name": "base",
   "language": "python",
   "name": "python3"
  },
  "language_info": {
   "codemirror_mode": {
    "name": "ipython",
    "version": 3
   },
   "file_extension": ".py",
   "mimetype": "text/x-python",
   "name": "python",
   "nbconvert_exporter": "python",
   "pygments_lexer": "ipython3",
   "version": "3.10.13"
  }
 },
 "nbformat": 4,
 "nbformat_minor": 2
}
